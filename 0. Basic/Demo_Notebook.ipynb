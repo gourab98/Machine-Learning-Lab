{
  "cells": [
    {
      "cell_type": "markdown",
      "metadata": {
        "id": "5FczmNtZSjI0"
      },
      "source": [
        "# CS229 Spring 2022 Python Tutorial"
      ]
    },
    {
      "cell_type": "markdown",
      "metadata": {
        "id": "i_XbisYmSjI6"
      },
      "source": [
        "Some contents are inspired by [CS231N Python tutorial notebook](https://colab.research.google.com/github/cs231n/cs231n.github.io/blob/master/python-colab.ipynb#scrollTo=9t1gKp9PL9eV)\n",
        "\n",
        "In this tutorial we cover\n",
        "\n",
        "* [Basic Python](#Basic-Python)\n",
        "   * [If Statement](#If-Statement)\n",
        "   * [Python Operators](#Python-Operators)\n",
        "   * [Loops](#Loop)\n",
        "   * [Functions](#Function)\n",
        "* [Simple python data type](#Simple-Python-data-types)\n",
        "   * [String](#String)\n",
        "   * [List](#List)\n",
        "   * [Tuple](#Tuple)\n",
        "   * [Set/Dictionary](#Dictionary/Set)\n",
        "* [Numpy](#Numpy)\n",
        "   * [Array (matrix) initialization](#Array-initialization)\n",
        "   * [Shape](#Array-shape)\n",
        "   * [Math with numpy](#Numpy-math)\n",
        "* [Dimension manipulation and broadcasting](#Broadcasting-and-dimension-manipulation)\n",
        "    * [Tile](#Tile)\n",
        "    * [Squeeze/expand_dims](#Expand/Squeeze)\n",
        "    * [Example: compute pairwise distance](#Pairwise-distance)\n",
        "* [Vectorization](#Vectorization)\n",
        "    * [Example: dot product](#Dot-product)\n",
        "    * [Exmaple: 2d matrix multiplication](#Matrix-multiplication-(2D))\n",
        "    * [Exmaple: pairwise distance, again](#Pairwise-distance,-again)\n",
        "* [Plotting](#Matplotlib)\n",
        "    * [Simple plotting (line, scatter)](#Simple-plotting)\n",
        "    * [Confusion matrix](#Confusion-matrix)\n",
        "    * [Show images](#Show-image)\n",
        "* [Pandas](#Pandas)\n",
        "    * [Load/Save](#File-operations)\n",
        "    * [Manipulations](#Manipulations)\n",
        "    * [Create from scratch](#Create-dataframe)\n",
        "    * [Plotting](#Simple-plotting)"
      ]
    },
    {
      "cell_type": "markdown",
      "metadata": {
        "id": "zCdOACE6SjI8"
      },
      "source": [
        "## Basic Python"
      ]
    },
    {
      "cell_type": "markdown",
      "metadata": {
        "id": "I-rNpwRPSjI9"
      },
      "source": [
        "### If Statement"
      ]
    },
    {
      "cell_type": "code",
      "execution_count": null,
      "metadata": {
        "id": "JoMscMVsSjI-"
      },
      "outputs": [],
      "source": [
        "code = 230"
      ]
    },
    {
      "cell_type": "code",
      "execution_count": null,
      "metadata": {
        "id": "_Z8xzfJUSjI_"
      },
      "outputs": [],
      "source": [
        "if code == 229:\n",
        "    print('Hello CS229!')\n",
        "elif code == 230:\n",
        "    print('That\\'s deep learning!')\n",
        "elif code < 200:\n",
        "    print('That is some undergraduate class')\n",
        "else:\n",
        "    print('Wrong class!')"
      ]
    },
    {
      "cell_type": "markdown",
      "metadata": {
        "id": "094JmmDmSjJA"
      },
      "source": [
        "Python doesn't have \"switch\" statement."
      ]
    },
    {
      "cell_type": "markdown",
      "metadata": {
        "id": "6oIg6J-dSjJB"
      },
      "source": [
        "### Python Operators\n",
        "\n",
        "**Logical operators**"
      ]
    },
    {
      "cell_type": "code",
      "execution_count": null,
      "metadata": {
        "id": "z3jwFgNTSjJC"
      },
      "outputs": [],
      "source": [
        "true = True\n",
        "false = False"
      ]
    },
    {
      "cell_type": "code",
      "execution_count": null,
      "metadata": {
        "id": "nR6-o4JNSjJC"
      },
      "outputs": [],
      "source": [
        "if true:\n",
        "    print(\"It's true!\") \n",
        "\n",
        "if not false:\n",
        "    print(\"It's still true!\")\n",
        "    \n",
        "if true and not false:\n",
        "    print(\"Anyhow, it's true!\")\n",
        "    \n",
        "if false or not true:\n",
        "    print(\"True?\")\n",
        "    \n",
        "else:\n",
        "    print(\"Okay, it's false now....\")\n",
        "    "
      ]
    },
    {
      "cell_type": "markdown",
      "metadata": {
        "id": "CaxaSN5aSjJD"
      },
      "source": [
        "**&, | and ~ are all bitwise operators**\n",
        "\n",
        "^ means bitwise XOR in Python."
      ]
    },
    {
      "cell_type": "markdown",
      "metadata": {
        "id": "1uuc2vrgSjJD"
      },
      "source": [
        "**Arithmetic operators**"
      ]
    },
    {
      "cell_type": "code",
      "execution_count": null,
      "metadata": {
        "id": "5Yu0zyHqSjJD"
      },
      "outputs": [],
      "source": [
        "print(5 / 2) # floating number division\n",
        "print(5 % 2) # remainder\n",
        "print(5 ** 2) # exponentiation\n",
        "print(5 // 2) # integer division"
      ]
    },
    {
      "cell_type": "markdown",
      "metadata": {
        "id": "xCuOf7sbSjJD"
      },
      "source": [
        "### Loop\n",
        "\n",
        "We typically use *range* and *enumerate* for iterations. You can loop over all iterables."
      ]
    },
    {
      "cell_type": "code",
      "execution_count": null,
      "metadata": {
        "id": "4hGgHMYOSjJE"
      },
      "outputs": [],
      "source": [
        "for i in range(5):\n",
        "    print(i)"
      ]
    },
    {
      "cell_type": "code",
      "execution_count": null,
      "metadata": {
        "id": "NxKQiv3kSjJE"
      },
      "outputs": [],
      "source": [
        "a = 5\n",
        "while a > 0:\n",
        "    print(a)\n",
        "    a -= 1"
      ]
    },
    {
      "cell_type": "markdown",
      "metadata": {
        "id": "7LqXrneYSjJE"
      },
      "source": [
        "Python doesn't have command like \"a++\" or \"a--\"."
      ]
    },
    {
      "cell_type": "markdown",
      "metadata": {
        "id": "j2q64U0PSjJE"
      },
      "source": [
        "### Function\n",
        "\n",
        "Python functions can take default arguments, they have to be at the end. Be VERY careful because forgetting that you have default argument can prevent you from debugging effectively."
      ]
    },
    {
      "cell_type": "code",
      "execution_count": null,
      "metadata": {
        "id": "XDSnIElHSjJF"
      },
      "outputs": [],
      "source": [
        "def power(v, p=2):\n",
        "    return v ** p # How to return multiple values?\n",
        "\n",
        "print(power(10))\n",
        "print(power(10, 3))"
      ]
    },
    {
      "cell_type": "markdown",
      "metadata": {
        "id": "UgR-7-qfSjJF"
      },
      "source": [
        "Functions can support extra arguments. You can pass them on to another function, or make use of these directly.\n",
        "\n",
        "- args: variable number of non-keyworded arguments\n",
        "- kwargs: variable number of keyworded arguments"
      ]
    },
    {
      "cell_type": "code",
      "execution_count": null,
      "metadata": {
        "id": "tvKaDyRfSjJF"
      },
      "outputs": [],
      "source": [
        "def func2(*args, **kwargs):\n",
        "    print(args)\n",
        "    print(kwargs)\n",
        "    "
      ]
    },
    {
      "cell_type": "code",
      "execution_count": null,
      "metadata": {
        "id": "_6Druqb0SjJG"
      },
      "outputs": [],
      "source": [
        "def func1(v, *args, **kwargs):\n",
        "    \n",
        "    func2(*args, **kwargs)\n",
        "    \n",
        "    if 'power' in kwargs:\n",
        "        return v ** kwargs['power']\n",
        "    else:\n",
        "        return v\n",
        "\n",
        "print(func1(10, 'extra 1', 'extra 2', power=3))\n",
        "print('--------------')\n",
        "print(func1(10, 5))"
      ]
    },
    {
      "cell_type": "markdown",
      "metadata": {
        "id": "ZAl60m2VSjJG"
      },
      "source": [
        "**Good practice:**\n",
        "- write out argument name and their value"
      ]
    },
    {
      "cell_type": "markdown",
      "metadata": {
        "id": "9bJtH-ZfSjJG"
      },
      "source": [
        "## Simple Python data types"
      ]
    },
    {
      "cell_type": "markdown",
      "metadata": {
        "id": "T6fz5SXPSjJH"
      },
      "source": [
        "### String\n",
        "See Python documentation [here](https://docs.python.org/3/library/string.html)"
      ]
    },
    {
      "cell_type": "code",
      "execution_count": null,
      "metadata": {
        "id": "vH-VT4PWSjJH"
      },
      "outputs": [],
      "source": [
        "cs_class_code = 229"
      ]
    },
    {
      "cell_type": "code",
      "execution_count": null,
      "metadata": {
        "id": "9ut0yATySjJH"
      },
      "outputs": [],
      "source": [
        "# Concatenation\n",
        "\n",
        "print('I like CS ' + str(cs_class_code) + ' a lot!')\n",
        "print(f'I like CS {cs_class_code} a lot!')"
      ]
    },
    {
      "cell_type": "code",
      "execution_count": null,
      "metadata": {
        "id": "1qKLIZ9TSjJH"
      },
      "outputs": [],
      "source": [
        "# Formatting\n",
        "\n",
        "print('I love CS229. (upper)'.upper())\n",
        "print('I love CS229. (rjust 50)'.rjust(50))\n",
        "print('we love CS229. (capitalize)'.capitalize())\n",
        "print('       I love CS229. (strip)        '.strip())"
      ]
    },
    {
      "cell_type": "markdown",
      "metadata": {
        "id": "6WHi1hClSjJI"
      },
      "source": [
        "\"f\"-string (f for formatting?) is new since Python 3.6. Embed values using { }"
      ]
    },
    {
      "cell_type": "code",
      "execution_count": null,
      "metadata": {
        "id": "3xA9HsCYSjJI"
      },
      "outputs": [],
      "source": [
        "print(f'{print} (print a function)')\n",
        "print(f'{type(229)} (print a type)')"
      ]
    },
    {
      "cell_type": "markdown",
      "metadata": {
        "id": "S1a5t7P8SjJI"
      },
      "source": [
        "For reference, here is how people used to do things. Or you want more control."
      ]
    },
    {
      "cell_type": "code",
      "execution_count": null,
      "metadata": {
        "id": "y2WlAUipSjJJ"
      },
      "outputs": [],
      "source": [
        "print('Old school formatting: {2}, {1}, {0:10.2F}'.format(1.358, 'b', 'c'))\n",
        "# Fill in order of 2, 1, 0. For the decimal number, fix at length of 10, round to 2 decimal places"
      ]
    },
    {
      "cell_type": "markdown",
      "metadata": {
        "id": "kn1V5R4VSjJJ"
      },
      "source": [
        "### List\n",
        "In general, data structure documentations can be found [here](https://docs.python.org/3/tutorial/datastructures.html)"
      ]
    },
    {
      "cell_type": "code",
      "execution_count": null,
      "metadata": {
        "id": "uBvlRKPrSjJJ"
      },
      "outputs": [],
      "source": [
        "list_1 = ['one', 'two', 'three']\n",
        "list_2 = [1, 2, 3]"
      ]
    },
    {
      "cell_type": "code",
      "execution_count": null,
      "metadata": {
        "id": "mIvg13wGSjJJ"
      },
      "outputs": [],
      "source": [
        "print(list_1)\n",
        "print(list_2)"
      ]
    },
    {
      "cell_type": "code",
      "execution_count": null,
      "metadata": {
        "id": "T_RUrfrpSjJK"
      },
      "outputs": [],
      "source": [
        "list_2.append(4)"
      ]
    },
    {
      "cell_type": "code",
      "execution_count": null,
      "metadata": {
        "id": "nM6pbFTgSjJK"
      },
      "outputs": [],
      "source": [
        "list_2"
      ]
    },
    {
      "cell_type": "code",
      "execution_count": null,
      "metadata": {
        "id": "iG-99pPhSjJK"
      },
      "outputs": [],
      "source": [
        "list_2.insert(0, 'ZERO')"
      ]
    },
    {
      "cell_type": "code",
      "execution_count": null,
      "metadata": {
        "id": "Lk8pZ8PHSjJL"
      },
      "outputs": [],
      "source": [
        "list_2 # if you go back to the previous cell and run print(list_2) again, what will you see?"
      ]
    },
    {
      "cell_type": "markdown",
      "metadata": {
        "id": "IV1jAygPSjJL"
      },
      "source": [
        "List extension is just addition"
      ]
    },
    {
      "cell_type": "code",
      "execution_count": null,
      "metadata": {
        "id": "7sSxj6b0SjJL"
      },
      "outputs": [],
      "source": [
        "print(list_1 + list_2)\n",
        "\n",
        "list_1_temp = ['a', 'b']\n",
        "list_1_temp.extend(list_2)\n",
        "\n",
        "print(list_1_temp)"
      ]
    },
    {
      "cell_type": "markdown",
      "metadata": {
        "id": "YKlMGrFiSjJL"
      },
      "source": [
        "But be VERY careful when you multiply a list!!"
      ]
    },
    {
      "cell_type": "code",
      "execution_count": null,
      "metadata": {
        "id": "wBw67c7oSjJL"
      },
      "outputs": [],
      "source": [
        "print(list_1 * 3 + list_2)\n",
        "print([list_1] * 3 + list_2)"
      ]
    },
    {
      "cell_type": "markdown",
      "metadata": {
        "id": "ZcfVdkpQSjJL"
      },
      "source": [
        "**pprint** is your friend"
      ]
    },
    {
      "cell_type": "code",
      "execution_count": null,
      "metadata": {
        "id": "I7RS885_SjJM"
      },
      "outputs": [],
      "source": [
        "import pprint as pp"
      ]
    },
    {
      "cell_type": "code",
      "execution_count": null,
      "metadata": {
        "id": "vRXO6oloSjJM"
      },
      "outputs": [],
      "source": [
        "pp.pprint([list_1] * 5 + list_2)\n",
        "pp.pprint([list_1] * 2 + [list_2] * 3)"
      ]
    },
    {
      "cell_type": "markdown",
      "metadata": {
        "id": "BiYKFckzSjJN"
      },
      "source": [
        "**List comprehension can save a lot of lines**"
      ]
    },
    {
      "cell_type": "code",
      "execution_count": null,
      "metadata": {
        "id": "ksYn4O6DSjJO"
      },
      "outputs": [],
      "source": [
        "long_list = [i for i in range(9)]\n",
        "long_long_list = [(i, j) for i in range(3) for j in range(5)]\n",
        "long_list_list = [[i for i in range(3)] for _ in range(5)]\n",
        "\n",
        "pp.pprint(long_list)\n",
        "pp.pprint(long_long_list)\n",
        "pp.pprint(long_list_list)"
      ]
    },
    {
      "cell_type": "markdown",
      "metadata": {
        "id": "b35LAQjASjJO"
      },
      "source": [
        "List is **iterable**!"
      ]
    },
    {
      "cell_type": "code",
      "execution_count": null,
      "metadata": {
        "id": "pvEArB_HSjJO"
      },
      "outputs": [],
      "source": [
        "string_list = ['a', 'b', 'c']"
      ]
    },
    {
      "cell_type": "code",
      "execution_count": null,
      "metadata": {
        "id": "zVxmvdRXSjJO"
      },
      "outputs": [],
      "source": [
        "for s in string_list:\n",
        "    print(s)"
      ]
    },
    {
      "cell_type": "code",
      "execution_count": null,
      "metadata": {
        "id": "4zSnduvFSjJP"
      },
      "outputs": [],
      "source": [
        "for i, s in enumerate(string_list):\n",
        "    print(f'{i}, {s}')"
      ]
    },
    {
      "cell_type": "markdown",
      "metadata": {
        "id": "kj0eTtG7SjJP"
      },
      "source": [
        "Slicing. With numpy array (covered layter), you can do this to multi-dimensional ones as well."
      ]
    },
    {
      "cell_type": "code",
      "execution_count": null,
      "metadata": {
        "id": "KN6BihmzSjJP"
      },
      "outputs": [],
      "source": [
        "print(long_list[:5])\n",
        "print(long_list[:-1])\n",
        "print(long_list[4:-1])\n",
        "\n",
        "long_list[3:5] = [-1, -2]\n",
        "print(long_list)\n",
        "\n",
        "long_list.pop()\n",
        "print(long_list)"
      ]
    },
    {
      "cell_type": "markdown",
      "metadata": {
        "id": "-PGFOQvUSjJP"
      },
      "source": [
        "Sorting a list (but remember that sorting can be costly). Documentation for sorting is [here](https://docs.python.org/3/howto/sorting.html)"
      ]
    },
    {
      "cell_type": "code",
      "execution_count": null,
      "metadata": {
        "id": "W8QnPnXSSjJP"
      },
      "outputs": [],
      "source": [
        "random_list = [3, 12, 5, 6, 8, 2]\n",
        "print(sorted(random_list))\n",
        "\n",
        "random_list_2 = [(3, 'z'), (12, 'r'), (5, 'a'), (6, 'e'), (8, 'c'), (2, 'g')]\n",
        "print(sorted(random_list_2, key=lambda x: x[1])) # sorting using 2nd variable in tuple"
      ]
    },
    {
      "cell_type": "markdown",
      "metadata": {
        "id": "Q0Afo7URSjJQ"
      },
      "source": [
        "**Think first before copying** Copy by reference not by value. More about copying [here](https://docs.python.org/3/library/copy.html)"
      ]
    },
    {
      "cell_type": "code",
      "execution_count": null,
      "metadata": {
        "id": "K_6bcKpySjJQ"
      },
      "outputs": [],
      "source": [
        "orig_list = [[1, 2], [3, 4]]\n",
        "dup_list = orig_list\n",
        "\n",
        "dup_list[0][1] = 'okay'\n",
        "pp.pprint(orig_list)\n",
        "pp.pprint(dup_list)"
      ]
    },
    {
      "cell_type": "code",
      "execution_count": null,
      "metadata": {
        "id": "8LmqlqShSjJQ"
      },
      "outputs": [],
      "source": [
        "a = [[1, 2, 3]]*3\n",
        "b = [[1, 2, 3] for i in range(3)]\n",
        "a[0][1] = 4\n",
        "b[0][1] = 4\n",
        "print(a)\n",
        "print(b)"
      ]
    },
    {
      "cell_type": "code",
      "execution_count": null,
      "metadata": {
        "id": "twcyiiipSjJQ"
      },
      "outputs": [],
      "source": [
        "import copy"
      ]
    },
    {
      "cell_type": "code",
      "execution_count": null,
      "metadata": {
        "id": "-XkhmRPZSjJR"
      },
      "outputs": [],
      "source": [
        "orig_list = [[1, 2], [3, 4]]\n",
        "dup_list = copy.deepcopy(orig_list)\n",
        "\n",
        "dup_list[0][1] = 'okay'\n",
        "pp.pprint(orig_list)\n",
        "pp.pprint(dup_list)"
      ]
    },
    {
      "cell_type": "markdown",
      "metadata": {
        "id": "7mBX8vLfSjJR"
      },
      "source": [
        "### Tuple\n",
        "\n",
        "List that you **cannot** edit."
      ]
    },
    {
      "cell_type": "code",
      "execution_count": null,
      "metadata": {
        "id": "l8Q1J0OFSjJR"
      },
      "outputs": [],
      "source": [
        "my_tuple = (10, 20, 30)\n",
        "my_tuple[0] = 40"
      ]
    },
    {
      "cell_type": "markdown",
      "metadata": {
        "id": "as0yPRP5SjJR"
      },
      "source": [
        "Split assignment makes your code shorter (also works for list)."
      ]
    },
    {
      "cell_type": "code",
      "execution_count": null,
      "metadata": {
        "id": "fqeLkKEDSjJR"
      },
      "outputs": [],
      "source": [
        "a, b, c = my_tuple\n",
        "print(f\"a={a}, b={b}, c={c}\")\n",
        "for obj in enumerate(my_tuple):\n",
        "    print(obj)"
      ]
    },
    {
      "cell_type": "markdown",
      "metadata": {
        "id": "3BsdWDYUSjJS"
      },
      "source": [
        "### Dictionary/Set\n",
        "\n",
        "Again, documentation for data structure is [here](https://docs.python.org/3/tutorial/datastructures.html)"
      ]
    },
    {
      "cell_type": "code",
      "execution_count": null,
      "metadata": {
        "id": "946QvqdESjJS"
      },
      "outputs": [],
      "source": [
        "my_set = {i ** 2 for i in range(10)}\n",
        "print(my_set)\n",
        "\n",
        "# unordered, unique"
      ]
    },
    {
      "cell_type": "code",
      "execution_count": null,
      "metadata": {
        "id": "SoL2d2yASjJS"
      },
      "outputs": [],
      "source": [
        "my_set_temp = {i ** 2 % 5 for i in range(10)}\n",
        "print(my_set_temp)"
      ]
    },
    {
      "cell_type": "code",
      "execution_count": null,
      "metadata": {
        "id": "hUqupJENSjJS"
      },
      "outputs": [],
      "source": [
        "my_dict = {(5 - i): i ** 2 for i in range(10)}\n",
        "\n",
        "print(my_dict)\n",
        "print(my_dict.keys())"
      ]
    },
    {
      "cell_type": "markdown",
      "metadata": {
        "id": "GhqjxLNwSjJS"
      },
      "source": [
        "Updating and/or addint content to a dictionary"
      ]
    },
    {
      "cell_type": "code",
      "execution_count": null,
      "metadata": {
        "id": "Rmr_augHSjJT"
      },
      "outputs": [],
      "source": [
        "second_dict = {'a': 10, 'b': 11}\n",
        "my_dict.update(second_dict)\n",
        "\n",
        "pp.pprint(my_dict)"
      ]
    },
    {
      "cell_type": "code",
      "execution_count": null,
      "metadata": {
        "id": "yNrUAu2bSjJT"
      },
      "outputs": [],
      "source": [
        "my_dict['new'] = 10\n",
        "pp.pprint(my_dict)"
      ]
    },
    {
      "cell_type": "markdown",
      "metadata": {
        "id": "MNGNs2CrSjJT"
      },
      "source": [
        "Here is how to iterate through a dictionary. And remember that dictionary is NOT sorted by key value. "
      ]
    },
    {
      "cell_type": "code",
      "execution_count": null,
      "metadata": {
        "id": "qcdm3WuzSjJT"
      },
      "outputs": [],
      "source": [
        "for k, it in my_dict.items(): # similar to for loop over enumerate(list)\n",
        "    print(k, it)"
      ]
    },
    {
      "cell_type": "code",
      "execution_count": null,
      "metadata": {
        "id": "QKKMsFuLSjJU"
      },
      "outputs": [],
      "source": [
        "# Sorting keys by string order\n",
        "for k, it in sorted(my_dict.items(), key=lambda x: str(x[0])):\n",
        "    print(k, it)"
      ]
    },
    {
      "cell_type": "markdown",
      "metadata": {
        "id": "Hibw6BblSjJU"
      },
      "source": [
        "For *defaultdict* and sorted dictionary, see the [collections documentation](https://docs.python.org/3/library/collections.html)"
      ]
    },
    {
      "cell_type": "markdown",
      "metadata": {
        "id": "4I6oCXoOSjJU"
      },
      "source": [
        "## Numpy\n",
        "\n",
        "[Numpy](https://numpy.org/) is a nice vector and matrix manipulation package."
      ]
    },
    {
      "cell_type": "code",
      "execution_count": null,
      "metadata": {
        "id": "t9RJCQxcSjJU"
      },
      "outputs": [],
      "source": [
        "import numpy as np"
      ]
    },
    {
      "cell_type": "markdown",
      "metadata": {
        "id": "7pWSHBHBSjJU"
      },
      "source": [
        "### Array initialization\n",
        "\n",
        "Initialize from existing list. If type is not consistent, numpy will give you weird result."
      ]
    },
    {
      "cell_type": "code",
      "execution_count": null,
      "metadata": {
        "id": "PgAtS0rpSjJV"
      },
      "outputs": [],
      "source": [
        "from_list = np.array([1, 2, 3])                              \n",
        "pp.pprint(from_list)\n",
        "print(f'\\t Data type of integer is {from_list.dtype}')"
      ]
    },
    {
      "cell_type": "code",
      "execution_count": null,
      "metadata": {
        "id": "kFG6tdKDSjJV"
      },
      "outputs": [],
      "source": [
        "from_list_2d = np.array([[1, 2, 3.0], [4, 5, 6]])\n",
        "pp.pprint(from_list_2d)\n",
        "print(f'\\t Data type of float is {from_list_2d.dtype}')"
      ]
    },
    {
      "cell_type": "code",
      "execution_count": null,
      "metadata": {
        "id": "Bg__y_sKSjJV"
      },
      "outputs": [],
      "source": [
        "from_list_bad_type = np.array([1, 2, 3, 'a'])\n",
        "pp.pprint(from_list_bad_type)"
      ]
    },
    {
      "cell_type": "markdown",
      "metadata": {
        "id": "A7rmT0MQSjJV"
      },
      "source": [
        "Initialize with ones, zeros, or as identity matrix"
      ]
    },
    {
      "cell_type": "code",
      "execution_count": null,
      "metadata": {
        "id": "pZWRyKloSjJV"
      },
      "outputs": [],
      "source": [
        "print(np.ones(3))"
      ]
    },
    {
      "cell_type": "code",
      "execution_count": null,
      "metadata": {
        "id": "r2ghJizRSjJW"
      },
      "outputs": [],
      "source": [
        "print(np.ones((3, 3)))"
      ]
    },
    {
      "cell_type": "code",
      "execution_count": null,
      "metadata": {
        "id": "nPzo2y_SSjJW"
      },
      "outputs": [],
      "source": [
        "print(np.zeros(3))"
      ]
    },
    {
      "cell_type": "code",
      "execution_count": null,
      "metadata": {
        "id": "n7QqqA9HSjJW"
      },
      "outputs": [],
      "source": [
        "print(np.zeros((3, 3)))"
      ]
    },
    {
      "cell_type": "code",
      "execution_count": null,
      "metadata": {
        "id": "J-xEr3FzSjJW"
      },
      "outputs": [],
      "source": [
        "print(np.eye(3))"
      ]
    },
    {
      "cell_type": "markdown",
      "metadata": {
        "id": "h7DWdtKeSjJW"
      },
      "source": [
        "Sampling over uniform distribution on $[0, 1)$."
      ]
    },
    {
      "cell_type": "code",
      "execution_count": null,
      "metadata": {
        "id": "dpeltLPGSjJW"
      },
      "outputs": [],
      "source": [
        "print(np.random.random(3))"
      ]
    },
    {
      "cell_type": "code",
      "execution_count": null,
      "metadata": {
        "id": "ANNvjHWWSjJW"
      },
      "outputs": [],
      "source": [
        "print(np.random.random((2, 2)))"
      ]
    },
    {
      "cell_type": "markdown",
      "metadata": {
        "id": "AzdQ1ckASjJW"
      },
      "source": [
        "Sampling over standard normal distribution."
      ]
    },
    {
      "cell_type": "code",
      "execution_count": null,
      "metadata": {
        "id": "uiN_qB_cSjJW"
      },
      "outputs": [],
      "source": [
        "print(np.random.randn(3, 3))"
      ]
    },
    {
      "cell_type": "markdown",
      "metadata": {
        "id": "IzUiEcXHSjJW"
      },
      "source": [
        "Numpy has built-in samplers of a lot of other common (and some not so common) distributions."
      ]
    },
    {
      "cell_type": "markdown",
      "metadata": {
        "id": "W5O_Dop3SjJX"
      },
      "source": [
        "### Array shape\n",
        "\n",
        "Shape/reshape and multi-dimensional arrays"
      ]
    },
    {
      "cell_type": "code",
      "execution_count": null,
      "metadata": {
        "id": "Vqu5HjlzSjJX"
      },
      "outputs": [],
      "source": [
        "array_1d = np.array([1, 2, 3, 4])\n",
        "array_1by4 = np.array([[1, 2, 3, 4]])\n",
        "array_2by4 = np.array([[1, 2, 3, 4], [5, 6, 7, 8]])\n",
        "\n",
        "print(array_1d.shape)\n",
        "print(array_1by4.shape)\n",
        "\n",
        "print(array_1d.reshape(-1, 4).shape)\n",
        "\n",
        "print(array_2by4.size) # projects: pytorch -- size similar to numpy shape"
      ]
    },
    {
      "cell_type": "code",
      "execution_count": null,
      "metadata": {
        "id": "wUDSdiGsSjJX"
      },
      "outputs": [],
      "source": [
        "large_array = np.array([i for i in range(400)])\n",
        "large_array = large_array.reshape((20, 20))\n",
        "\n",
        "print(large_array[:, 5])"
      ]
    },
    {
      "cell_type": "code",
      "execution_count": null,
      "metadata": {
        "id": "eEWJwqR8SjJX"
      },
      "outputs": [],
      "source": [
        "large_3d_array = np.array([i for i in range(1000)])\n",
        "large_3d_array = large_3d_array.reshape((10, 10, 10))"
      ]
    },
    {
      "cell_type": "code",
      "execution_count": null,
      "metadata": {
        "id": "tcvKQUIBSjJX"
      },
      "outputs": [],
      "source": [
        "print(large_3d_array[:, 1, 1])"
      ]
    },
    {
      "cell_type": "code",
      "execution_count": null,
      "metadata": {
        "id": "Xnw-7HjSSjJX"
      },
      "outputs": [],
      "source": [
        "print(large_3d_array[2, :, 1])"
      ]
    },
    {
      "cell_type": "code",
      "execution_count": null,
      "metadata": {
        "id": "7OHfPYGnSjJY"
      },
      "outputs": [],
      "source": [
        "print(large_3d_array[2, 3, :])"
      ]
    },
    {
      "cell_type": "code",
      "execution_count": null,
      "metadata": {
        "id": "b22gylsqSjJY"
      },
      "outputs": [],
      "source": [
        "print(large_3d_array[1, :, :])"
      ]
    },
    {
      "cell_type": "markdown",
      "metadata": {
        "id": "MfjfV1U9SjJY"
      },
      "source": [
        "Think about the **order** you need before using reshape."
      ]
    },
    {
      "cell_type": "code",
      "execution_count": null,
      "metadata": {
        "id": "L5TMX9msSjJY"
      },
      "outputs": [],
      "source": [
        "small_array = np.arange(4)"
      ]
    },
    {
      "cell_type": "code",
      "execution_count": null,
      "metadata": {
        "id": "PqlNYQrOSjJZ"
      },
      "outputs": [],
      "source": [
        "print(np.reshape(small_array, (2, 2), order='C')) # Default order"
      ]
    },
    {
      "cell_type": "code",
      "execution_count": null,
      "metadata": {
        "id": "qR1koZNnSjJZ"
      },
      "outputs": [],
      "source": [
        "print(np.reshape(small_array, (2, 2), order='F'))"
      ]
    },
    {
      "cell_type": "markdown",
      "metadata": {
        "id": "-woCmuN2SjJZ"
      },
      "source": [
        "### Numpy math\n",
        "\n",
        "This also works for sin, cos, tanh, etc."
      ]
    },
    {
      "cell_type": "code",
      "execution_count": null,
      "metadata": {
        "id": "dGDCjZV-SjJZ"
      },
      "outputs": [],
      "source": [
        "array_1 = np.array([1, 2, 3, 4])\n",
        "\n",
        "# element wise operations!!\n",
        "\n",
        "print(array_1 + 5)\n",
        "print(array_1 * 5)\n",
        "print(np.sqrt(array_1))\n",
        "print(np.power(array_1, 2))\n",
        "print(np.exp(array_1))\n",
        "print(np.log(array_1))"
      ]
    },
    {
      "cell_type": "markdown",
      "metadata": {
        "id": "lbZoqm7iSjJa"
      },
      "source": [
        "For sum, mean, avg, std, var, etc, you can perform the operation on set axis."
      ]
    },
    {
      "cell_type": "code",
      "execution_count": null,
      "metadata": {
        "id": "OeD0l9AKSjJa"
      },
      "outputs": [],
      "source": [
        "array_2d = np.array([[1, 2, 3], [4, 5, 6], [7, 8, 9]])\n",
        "\n",
        "pp.pprint(array_2d)\n",
        "print(f'shape={array_2d.shape}')\n",
        "print(np.sum(array_2d))\n",
        "print(np.sum(array_2d, axis=0))\n",
        "print(np.sum(array_2d, axis=1))"
      ]
    },
    {
      "cell_type": "code",
      "execution_count": null,
      "metadata": {
        "id": "Sq_9FUA1SjJa"
      },
      "outputs": [],
      "source": [
        "array_3d = np.array([i for i in range(8)]).reshape((2, 2, 2))\n",
        "pp.pprint(array_3d)\n",
        "\n",
        "print(np.sum(array_3d, axis=0))\n",
        "print(np.sum(array_3d, axis=1))\n",
        "print(np.sum(array_3d, axis=(1, 2)))"
      ]
    },
    {
      "cell_type": "markdown",
      "metadata": {
        "id": "7dzmsSsbSjJa"
      },
      "source": [
        "Numpy tend to do things element-wise. But be **VERY CAREFUL** when dimensions don't match. We will cover this in broadcasting. Actuall just be careful with dimension of arrays in general."
      ]
    },
    {
      "cell_type": "code",
      "execution_count": null,
      "metadata": {
        "id": "uPc_bw3sSjJa"
      },
      "outputs": [],
      "source": [
        "array_1 = np.array([1, 2, 3, 4])\n",
        "array_2 = np.array([3, 4, 5, 6])"
      ]
    },
    {
      "cell_type": "code",
      "execution_count": null,
      "metadata": {
        "id": "PvRqsIuxSjJa"
      },
      "outputs": [],
      "source": [
        "print(array_1 * array_2) # element wise multiplication"
      ]
    },
    {
      "cell_type": "code",
      "execution_count": null,
      "metadata": {
        "id": "PT4AXJ75SjJb"
      },
      "outputs": [],
      "source": [
        "# same as np.multiply"
      ]
    },
    {
      "cell_type": "code",
      "execution_count": null,
      "metadata": {
        "id": "af3yr6-hSjJb"
      },
      "outputs": [],
      "source": [
        "print(np.multiply(array_1, array_2))"
      ]
    },
    {
      "cell_type": "code",
      "execution_count": null,
      "metadata": {
        "id": "2D-VsJunSjJb"
      },
      "outputs": [],
      "source": [
        "print(array_2.reshape(4, -1))"
      ]
    },
    {
      "cell_type": "code",
      "execution_count": null,
      "metadata": {
        "id": "FVt-MZazSjJb"
      },
      "outputs": [],
      "source": [
        "print(array_2.shape)\n",
        "print(array_2.reshape(4, -1).shape)"
      ]
    },
    {
      "cell_type": "code",
      "execution_count": null,
      "metadata": {
        "id": "bfXLURmbSjJb"
      },
      "outputs": [],
      "source": [
        "print(array_1 * array_2.reshape(4, -1)) # Come back to this later"
      ]
    },
    {
      "cell_type": "markdown",
      "metadata": {
        "id": "dAkm3DNcSjJb"
      },
      "source": [
        "Dot product can be done in multiple ways"
      ]
    },
    {
      "cell_type": "code",
      "execution_count": null,
      "metadata": {
        "id": "DLUc6OQnSjJb"
      },
      "outputs": [],
      "source": [
        "# element wise multiplication --> sum \n",
        "print(np.sum(array_1 * array_2)) "
      ]
    },
    {
      "cell_type": "code",
      "execution_count": null,
      "metadata": {
        "id": "Ot_EgTqzSjJb"
      },
      "outputs": [],
      "source": [
        "print(array_1.dot(array_2))"
      ]
    },
    {
      "cell_type": "code",
      "execution_count": null,
      "metadata": {
        "id": "bfr4StLRSjJc"
      },
      "outputs": [],
      "source": [
        "print(np.dot(array_1, array_2))"
      ]
    },
    {
      "cell_type": "code",
      "execution_count": null,
      "metadata": {
        "id": "FacZ6McUSjJc"
      },
      "outputs": [],
      "source": [
        "print(array_1 @ array_2) # equivavlent to np.matmul(array_1, array_2)"
      ]
    },
    {
      "cell_type": "code",
      "execution_count": null,
      "metadata": {
        "id": "soARQvTLSjJc"
      },
      "outputs": [],
      "source": [
        "print(array_1.shape)"
      ]
    },
    {
      "cell_type": "markdown",
      "metadata": {
        "id": "UPjefMHWSjJc"
      },
      "source": [
        "Here, you can't dot when the dimensions are incorrect. *But* it did not complain just now. Check the shapes!"
      ]
    },
    {
      "cell_type": "code",
      "execution_count": null,
      "metadata": {
        "id": "mWQrUJeiSjJc"
      },
      "outputs": [],
      "source": [
        "array_1 = np.array([[1, 2, 3, 4]])\n",
        "array_2 = np.array([[3, 4, 5, 6]])\n",
        "\n",
        "print(array_1.shape)\n",
        "print(array_2.shape)\n",
        "\n",
        "print(array_1 * array_2)\n",
        "print(array_1.dot(array_2))"
      ]
    },
    {
      "cell_type": "markdown",
      "metadata": {
        "id": "2OjByUUUSjJc"
      },
      "source": [
        "With proper handling of shapes, things work. Also, dot is just matrix multiplication. But behaves differently in higher dimensions!!\n",
        "You might just want to write matrix multiply to keep things consistent and be SURE that you have the correct shapes."
      ]
    },
    {
      "cell_type": "code",
      "execution_count": null,
      "metadata": {
        "id": "6r1m2gHMSjJc"
      },
      "outputs": [],
      "source": [
        "# T for transpose\n",
        "\n",
        "print(array_1.dot(array_2.T)) # inner product\n",
        "print(array_1.T.dot(array_2)) # outer product"
      ]
    },
    {
      "cell_type": "code",
      "execution_count": null,
      "metadata": {
        "id": "QYXErAfPSjJd"
      },
      "outputs": [],
      "source": [
        "print(np.matmul(array_1, array_2.T)) # inner product\n",
        "print(np.matmul(array_1.T, array_2)) # outer product"
      ]
    },
    {
      "cell_type": "code",
      "execution_count": null,
      "metadata": {
        "id": "6NqIs1MlSjJd"
      },
      "outputs": [],
      "source": [
        "weight_matrix = np.array([1, 2, 3, 4]).reshape(2, 2)\n",
        "sample = np.array([[50, 60]]).T\n",
        "\n",
        "np.matmul(weight_matrix, sample)"
      ]
    },
    {
      "cell_type": "code",
      "execution_count": null,
      "metadata": {
        "id": "Qg3j3V71SjJd"
      },
      "outputs": [],
      "source": [
        "# sanity check\n",
        "print(weight_matrix.shape)\n",
        "print(sample.shape)"
      ]
    },
    {
      "cell_type": "markdown",
      "metadata": {
        "id": "ka2ABT10SjJe"
      },
      "source": [
        "And of course, we typically use matmul for 2D matrix multiplications. For dim>3, Numpy treats it as a stack of matrices. See [Matmul documentation](https://docs.scipy.org/doc/numpy/reference/generated/numpy.matmul.html)"
      ]
    },
    {
      "cell_type": "code",
      "execution_count": null,
      "metadata": {
        "id": "v4A5oSlJSjJe"
      },
      "outputs": [],
      "source": [
        "mat1 = np.array([[1, 2], [3, 4]])\n",
        "mat2 = np.array([[5, 6], [7, 8]])\n",
        "\n",
        "print(np.matmul(mat1, mat2))"
      ]
    },
    {
      "cell_type": "markdown",
      "metadata": {
        "id": "LbGzFsq7SjJe"
      },
      "source": [
        "Notice that np.multiply is element-wise multiplication. NOT proper matrix multiplicatio."
      ]
    },
    {
      "cell_type": "code",
      "execution_count": null,
      "metadata": {
        "id": "wID0gDQBSjJe"
      },
      "outputs": [],
      "source": [
        "a = np.array([i for i in range(10)]).reshape(2, 5)\n",
        "\n",
        "print(a * a)\n",
        "print(np.multiply(a, a))\n",
        "print(np.multiply(a, 10))"
      ]
    },
    {
      "cell_type": "markdown",
      "metadata": {
        "id": "MXBx-QP1SjJe"
      },
      "source": [
        "## Broadcasting and dimension manipulation\n",
        "\n",
        "Numpy has capability to perform operations on arrays with different shapes, inferring/expanding dimension as needed. Taking examples from [Scipy's documentaiton on numpy](https://docs.scipy.org/doc/numpy/user/basics.broadcasting.html), some examples can be \n",
        "\n",
        "```\n",
        "A      (4d array):  8 x 1 x 6 x 1\n",
        "B      (3d array):      7 x 1 x 5\n",
        "Result (4d array):  8 x 7 x 6 x 5\n",
        "\n",
        "A      (2d array):  5 x 4\n",
        "B      (1d array):      1\n",
        "Result (2d array):  5 x 4\n",
        "\n",
        "A      (2d array):  5 x 4\n",
        "B      (1d array):      4\n",
        "Result (2d array):  5 x 4\n",
        "\n",
        "A      (3d array):  15 x 3 x 5\n",
        "B      (3d array):  15 x 1 x 5\n",
        "Result (3d array):  15 x 3 x 5\n",
        "\n",
        "A      (3d array):  15 x 3 x 5\n",
        "B      (2d array):       3 x 5\n",
        "Result (3d array):  15 x 3 x 5\n",
        "\n",
        "A      (3d array):  15 x 3 x 5\n",
        "B      (2d array):       3 x 1\n",
        "Result (3d array):  15 x 3 x 5\n",
        "```\n",
        "\n",
        "Essentially all dimensions of size 1 can be \"over-looked\" or \"expanded\" to match dimension from another operator. But the order of such must be matched. Dimension of size 1 is only prepended, not appended. For example, the following would not work, though you might think we can add another dimension at the end of B.\n",
        "\n",
        "```\n",
        "A      (3d array):  15 x 3 x 5\n",
        "B      (2d array):       1 x 3\n",
        "Result (3d array):  15 x 3 x 5\n",
        "```"
      ]
    },
    {
      "cell_type": "code",
      "execution_count": null,
      "metadata": {
        "id": "ZIsaorYHSjJf"
      },
      "outputs": [],
      "source": [
        "op1 = np.array([i for i in range(9)]).reshape(3, 3)\n",
        "op2 = np.array([[1, 2, 3]])\n",
        "op3 = np.array([1, 2, 3])\n",
        "\n",
        "pp.pprint(op1)\n",
        "pp.pprint(op2)"
      ]
    },
    {
      "cell_type": "code",
      "execution_count": null,
      "metadata": {
        "id": "AOShW_EbSjJf"
      },
      "outputs": [],
      "source": [
        "# Notice that the result here is DIFFERENT!\n",
        "print(op1.shape)\n",
        "print(op2.shape)\n",
        "print(op2.T.shape)\n",
        "pp.pprint(op1 + op2)\n",
        "pp.pprint(op1 + op2.T)"
      ]
    },
    {
      "cell_type": "code",
      "execution_count": null,
      "metadata": {
        "id": "x2KLJ__7SjJf"
      },
      "outputs": [],
      "source": [
        "# Notice that the result here are THE SAME!\n",
        "print(op3.shape)\n",
        "print(op3.T.shape)\n",
        "pp.pprint(op1 + op3)\n",
        "pp.pprint(op1 + op3.T)"
      ]
    },
    {
      "cell_type": "markdown",
      "metadata": {
        "id": "Fvt0iwtTSjJg"
      },
      "source": [
        "Here, broadcasting won't work for 15 x 3 x 5 with 1 x 3. Because dimensions are only prepended.\n",
        "\n",
        "But it WILL work for 15 x 3 x 5 with 3 x 1."
      ]
    },
    {
      "cell_type": "code",
      "execution_count": null,
      "metadata": {
        "scrolled": true,
        "id": "hUhGuqGVSjJg"
      },
      "outputs": [],
      "source": [
        "op1 = np.array([i for i in range(225)]).reshape(15, 3, 5)\n",
        "op2 = np.array([[1, 2, 3]])\n",
        "\n",
        "# This does not work\n",
        "# print(op1 + op2)\n",
        "\n",
        "# This works\n",
        "print(op1 + op2.T)\n",
        "\n",
        "# BTW you can contract the cells by clicking on the left"
      ]
    },
    {
      "cell_type": "markdown",
      "metadata": {
        "id": "lOTx2ARLSjJg"
      },
      "source": [
        "### Tile\n",
        "\n",
        "Treat broadcasting as tilling the lower dimensional array to suit the size of the \"more complex\" array."
      ]
    },
    {
      "cell_type": "code",
      "execution_count": null,
      "metadata": {
        "id": "sPjASlleSjJh"
      },
      "outputs": [],
      "source": [
        "array = np.array([1, 2, 3])\n",
        "\n",
        "# np.tile(array, shape)\n",
        "print(np.tile(array, 2))\n",
        "print(np.tile(array, (2, 3)))"
      ]
    },
    {
      "cell_type": "markdown",
      "metadata": {
        "id": "SEwHErHPSjJh"
      },
      "source": [
        "Observe how, with transpose, the tiled result is different. Op2 originally has shape 1 x 3, so\n",
        "\n",
        "Tiling it (1 x 5) means tiling 2nd dimension 5 times, yielding (1 x 15)\n",
        "\n",
        "Tiling the *transpose*, thus 3 x 1, by (1 x 5) means tiling 2nd dimension 5 times, yielding (3 x 5)"
      ]
    },
    {
      "cell_type": "code",
      "execution_count": null,
      "metadata": {
        "id": "df1eC6yrSjJh"
      },
      "outputs": [],
      "source": [
        "op1 = np.array([i for i in range(225)]).reshape(15, 3, 5)\n",
        "op2 = np.array([[1, 2, 3]])\n",
        "\n",
        "op_tiled= np.tile(op2, (1, 5))\n",
        "print(op_tiled.shape)\n",
        "\n",
        "op_tiled= np.tile(op2.T, (1, 5))\n",
        "print(op_tiled.shape)"
      ]
    },
    {
      "cell_type": "markdown",
      "metadata": {
        "id": "Krqk8hwJSjJi"
      },
      "source": [
        "### Expand/Squeeze\n",
        "\n",
        "Add a dimension of size 1 or remove dimension of size 1. Here we massage op2 (shape=(1, 3)) to shape of (15, 3, 5)"
      ]
    },
    {
      "cell_type": "code",
      "execution_count": null,
      "metadata": {
        "id": "d09siRHjSjJi"
      },
      "outputs": [],
      "source": [
        "op_expanded = np.expand_dims(op2, axis=2)\n",
        "print(op_expanded.shape)\n",
        "\n",
        "op_tiled_2 = np.tile(op_expanded, (15, 1, 5))\n",
        "print(op_tiled_2.shape)"
      ]
    },
    {
      "cell_type": "markdown",
      "metadata": {
        "id": "7NezUoTcSjJi"
      },
      "source": [
        "Same effect with np.newaxis"
      ]
    },
    {
      "cell_type": "code",
      "execution_count": null,
      "metadata": {
        "id": "6fBnjgP-SjJi"
      },
      "outputs": [],
      "source": [
        "op3 = np.array([i for i in range(9)]).reshape(3, 3)\n",
        "\n",
        "op_na = op3[np.newaxis, :]\n",
        "print(op_na)\n",
        "print(op_na.shape)\n",
        "\n",
        "op_na2 = op3[:, np.newaxis, :]\n",
        "print(op_na2)\n",
        "print(op_na2.shape)"
      ]
    },
    {
      "cell_type": "markdown",
      "metadata": {
        "id": "LnIUBvknSjJj"
      },
      "source": [
        "Squeeze removes size 1 dimensions"
      ]
    },
    {
      "cell_type": "code",
      "execution_count": null,
      "metadata": {
        "id": "JOTrGw3fSjJj"
      },
      "outputs": [],
      "source": [
        "print(op_expanded)\n",
        "print(op_expanded.shape)\n",
        "\n",
        "op_squeezed = np.squeeze(op_expanded)\n",
        "\n",
        "print(op_squeezed)"
      ]
    },
    {
      "cell_type": "markdown",
      "metadata": {
        "id": "1vRfSUe4SjJj"
      },
      "source": [
        "### Pairwise distance\n",
        "\n",
        "Here are 3 ways to compute pairwise distances.\n",
        "* \"Naive\" method through tile expansion\n",
        "* Convert the tile/expansion to broadcasting\n",
        "* Scipy one line"
      ]
    },
    {
      "cell_type": "code",
      "execution_count": null,
      "metadata": {
        "id": "x0idBv2ZSjJj"
      },
      "outputs": [],
      "source": [
        "samples = np.random.random((15, 5))\n",
        "print(samples.shape)\n",
        "print(samples)"
      ]
    },
    {
      "cell_type": "code",
      "execution_count": null,
      "metadata": {
        "id": "t_mNVGkeSjJj"
      },
      "outputs": [],
      "source": [
        "# Without broadcasting\n",
        "expanded1 = np.expand_dims(samples, axis=1)\n",
        "tile1 = np.tile(expanded1, (1, samples.shape[0], 1))\n",
        "#print(expanded1.shape)\n",
        "#print(tile1.shape)\n",
        "#print(tile1)\n",
        "\n",
        "expanded2 = np.expand_dims(samples, axis=0)\n",
        "tile2 = np.tile(expanded2, (samples.shape[0], 1 ,1))\n",
        "#print(expanded2.shape)\n",
        "#print(tile2.shape)\n",
        "#print(tile2)\n",
        "\n",
        "diff = tile2 - tile1\n",
        "distances = np.linalg.norm(diff, axis=-1)\n",
        "# print(distances)\n",
        "print(np.mean(distances))"
      ]
    },
    {
      "cell_type": "code",
      "execution_count": null,
      "metadata": {
        "id": "AyTvYYdHSjJk"
      },
      "outputs": [],
      "source": [
        "# With broadcasting\n",
        "diff = samples[: ,np.newaxis, :] - samples[np.newaxis, :, :]\n",
        "distances = np.linalg.norm(diff, axis=-1)\n",
        "# print(distances)\n",
        "print(np.mean(distances))"
      ]
    },
    {
      "cell_type": "code",
      "execution_count": null,
      "metadata": {
        "scrolled": false,
        "id": "uNI2-Y1ISjJk"
      },
      "outputs": [],
      "source": [
        "# With scipy\n",
        "import scipy.spatial\n",
        "distances = scipy.spatial.distance.cdist(samples, samples)\n",
        "# print(distances)\n",
        "# print(len(distances))\n",
        "print(np.mean(distances))"
      ]
    },
    {
      "cell_type": "markdown",
      "metadata": {
        "id": "biCLW_S6SjJk"
      },
      "source": [
        "## Vectorization\n",
        "\n",
        "tqdm is a nice package for you to track progress, or just kill time."
      ]
    },
    {
      "cell_type": "code",
      "execution_count": null,
      "metadata": {
        "id": "gB7XjVTLSjJk"
      },
      "outputs": [],
      "source": [
        "import time # time.time() gets wall time, time.clock() gets processor time\n",
        "from tqdm import tqdm"
      ]
    },
    {
      "cell_type": "markdown",
      "metadata": {
        "id": "ZCKCWFMoSjJl"
      },
      "source": [
        "### Dot Product\n",
        "\n",
        "Numpy is 25 times faster than loops here."
      ]
    },
    {
      "cell_type": "code",
      "execution_count": null,
      "metadata": {
        "id": "EqRxmZscSjJl"
      },
      "outputs": [],
      "source": [
        "a = np.random.random(500000)\n",
        "b = np.random.random(500000)\n",
        "\n",
        "p_tic = time.perf_counter()\n",
        "tic = time.time()\n",
        "\n",
        "dot = 0.0;\n",
        "for i in tqdm(range(len(a))):\n",
        "    dot += a[i] * b[i]\n",
        "\n",
        "print(dot)\n",
        "\n",
        "toc = time.time()\n",
        "p_toc = time.perf_counter()\n",
        "\n",
        "print(f'Result: {dot}');\n",
        "print(f'Compute time (wall): {round(1000 * (toc - tic), 6)}ms')\n",
        "print(f'Compute time (cpu) : {round(1000 * (p_toc - p_tic), 6)}ms\\n')\n",
        "\n",
        "#####################################################################\n",
        "\n",
        "p_tic = time.perf_counter()\n",
        "tic = time.time()\n",
        "\n",
        "print(np.array(a).dot(np.array(b)))\n",
        "\n",
        "toc = time.time()\n",
        "p_toc = time.perf_counter()\n",
        "\n",
        "print(f'(vectorized) Result: {dot}');\n",
        "print(f'(vectorized) Compute time: {round(1000 * (toc - tic), 6)}ms')\n",
        "print(f'(vectorized) Compute time (cpu) : {round(1000 * (p_toc - p_tic), 6)}ms')"
      ]
    },
    {
      "cell_type": "markdown",
      "metadata": {
        "id": "XIIV0qJwSjJl"
      },
      "source": [
        "### Matrix muliplication (2D)\n",
        "\n",
        "Numpy is more than TWO THOUSAND times faster than loops here.\n",
        "\n",
        "Matrix multiplication is a *O(n^3)* complexity operation if implemented naively."
      ]
    },
    {
      "cell_type": "code",
      "execution_count": null,
      "metadata": {
        "id": "2ZrS1lY2SjJm"
      },
      "outputs": [],
      "source": [
        "def matrix_mul(X, Y):\n",
        "    # iterate through rows of X\n",
        "    for i in range(len(X)):\n",
        "        # iterate through columns of Y\n",
        "        for j in range(len(Y[0])):\n",
        "            # iterate through rows of Y\n",
        "            for k in range(len(Y)):\n",
        "                result[i][j] += X[i][k] * Y[k][j]\n",
        "    return result"
      ]
    },
    {
      "cell_type": "code",
      "execution_count": null,
      "metadata": {
        "id": "XohlNjPQSjJm"
      },
      "outputs": [],
      "source": [
        "X = np.random.random((200, 200))\n",
        "Y = np.random.random((200, 200))\n",
        "\n",
        "result = np.zeros((200, 200))\n",
        "\n",
        "p_tic = time.perf_counter()\n",
        "tic = time.time()\n",
        "\n",
        "# iterate through rows of X\n",
        "for i in tqdm(range(len(X))):\n",
        "    # iterate through columns of Y\n",
        "    for j in range(len(Y[0])):\n",
        "        # iterate through rows of Y\n",
        "        for k in range(len(Y)):\n",
        "            result[i][j] += X[i][k] * Y[k][j]\n",
        "\n",
        "s = np.sum(result)\n",
        "\n",
        "toc = time.time()\n",
        "p_toc = time.perf_counter()\n",
        "\n",
        "print(f'Result: {s}');\n",
        "print(f'Compute time (wall): {round(1000 * (toc - tic), 6)}ms')\n",
        "print(f'Compute time (cpu) : {round(1000 * (p_toc - p_tic), 6)}ms\\n')\n",
        "\n",
        "#####################################################################\n",
        "\n",
        "p_tic = time.perf_counter()\n",
        "tic = time.time()\n",
        "\n",
        "result = np.matmul(X, Y)\n",
        "s = np.sum(result)\n",
        "\n",
        "toc = time.time()\n",
        "p_toc = time.perf_counter()\n",
        "\n",
        "print(f'(vectorized) Result: {s}');\n",
        "print(f'(vectorized) Compute time: {round(1000 * (toc - tic), 6)}ms')\n",
        "print(f'(vectorized) Compute time (cpu) : {round(1000 * (p_toc - p_tic), 6)}ms')"
      ]
    },
    {
      "cell_type": "markdown",
      "metadata": {
        "id": "AwI7nz2WSjJm"
      },
      "source": [
        "### Pairwise distance, again\n",
        "\n",
        "Again, numpy is 30 times faster"
      ]
    },
    {
      "cell_type": "code",
      "execution_count": null,
      "metadata": {
        "id": "GZOHCPSXSjJn"
      },
      "outputs": [],
      "source": [
        "samples = np.random.random((100, 5))\n",
        "\n",
        "p_tic = time.perf_counter()\n",
        "tic = time.time()\n",
        "\n",
        "total_dist = []\n",
        "for s1 in samples:\n",
        "    for s2 in samples:\n",
        "        d = np.linalg.norm(s1 - s2)\n",
        "        total_dist.append(d)\n",
        "        \n",
        "avg_dist = np.mean(total_dist)\n",
        "\n",
        "toc = time.time()\n",
        "p_toc = time.perf_counter()\n",
        "\n",
        "print(f'Result: {avg_dist}');\n",
        "print(f'Compute time (wall): {round(1000 * (toc - tic), 6)}ms')\n",
        "print(f'Compute time (cpu) : {round(1000 * (p_toc - p_tic), 6)}ms\\n')\n",
        "\n",
        "\n",
        "#####################################################################\n",
        "\n",
        "p_tic = time.perf_counter()\n",
        "tic = time.time()\n",
        "\n",
        "diff = samples[: ,np.newaxis, :] - samples[np.newaxis, :, :]\n",
        "distances = np.linalg.norm(diff, axis=-1)\n",
        "avg_dist = np.mean(distances)\n",
        "\n",
        "toc = time.time()\n",
        "p_toc = time.perf_counter()\n",
        "\n",
        "print(f'Result: {avg_dist}');\n",
        "print(f'Compute time (wall): {round(1000 * (toc - tic), 6)}ms')\n",
        "print(f'Compute time (cpu) : {round(1000 * (p_toc - p_tic), 6)}ms\\n')"
      ]
    },
    {
      "cell_type": "markdown",
      "metadata": {
        "id": "3gIHPutPSjJn"
      },
      "source": [
        "You might want to make sure that *OpenBLAS* is installed. [OpenBLAS](https://www.openblas.net/) is a \"basic linear algebra subprograms\" package that basically, speeds up math for numpy."
      ]
    },
    {
      "cell_type": "code",
      "execution_count": null,
      "metadata": {
        "id": "NNv4-a8rSjJn"
      },
      "outputs": [],
      "source": [
        "# np.show_config()"
      ]
    },
    {
      "cell_type": "markdown",
      "metadata": {
        "id": "s3A8ptcBSjJn"
      },
      "source": [
        "# Matplotlib"
      ]
    },
    {
      "cell_type": "markdown",
      "metadata": {
        "id": "1_H7BuBxSjJo"
      },
      "source": [
        "## Simple plotting\n",
        "\n",
        "We want to plot with proper labels, series legend, and even markets."
      ]
    },
    {
      "cell_type": "code",
      "execution_count": null,
      "metadata": {
        "id": "w7nvrSrySjJo"
      },
      "outputs": [],
      "source": [
        "# If you are using a headless environment. Very important if running on server\n",
        "# import matplotlib\n",
        "# matplotlib.use('Agg')\n",
        "\n",
        "import matplotlib.pyplot as plt"
      ]
    },
    {
      "cell_type": "code",
      "execution_count": null,
      "metadata": {
        "id": "2lFG9dBqSjJo"
      },
      "outputs": [],
      "source": [
        "def draw_simple_sin_cos(x_values):\n",
        "    \n",
        "    y1_values = np.sin(x_values * np.pi)\n",
        "    y2_values = np.cos(x_values * np.pi)\n",
        "\n",
        "    plt.plot(x_values, y1_values, label='Sine')\n",
        "    plt.plot(x_values, y2_values, label='Cosine')\n",
        "\n",
        "    plt.legend()\n",
        "    plt.xlabel('x')\n",
        "    plt.ylabel('values')\n",
        "    plt.title('Values for sin and cos, scaled by $\\phi_i$')"
      ]
    },
    {
      "cell_type": "code",
      "execution_count": null,
      "metadata": {
        "id": "SjSkYmwZSjJo"
      },
      "outputs": [],
      "source": [
        "x_values = np.arange(0, 20, 0.001)\n",
        "\n",
        "draw_simple_sin_cos(x_values)\n",
        "plt.show()"
      ]
    },
    {
      "cell_type": "markdown",
      "metadata": {
        "id": "GzOzKq0vSjJo"
      },
      "source": [
        "You can adjust figure size for aspect ratio then DPI for density of pixels. These combined give you resolution of the image"
      ]
    },
    {
      "cell_type": "code",
      "execution_count": null,
      "metadata": {
        "id": "5EIry63uSjJo"
      },
      "outputs": [],
      "source": [
        "plt.figure(figsize=(10,3), dpi=100) # 640 x 450\n",
        "\n",
        "draw_simple_sin_cos(x_values)\n",
        "\n",
        "plt.savefig('tutorial_sin.jpg')\n",
        "plt.show()"
      ]
    },
    {
      "cell_type": "markdown",
      "metadata": {
        "id": "29Jxf97-SjJp"
      },
      "source": [
        "Subplots in a grid can share axis labels through *sharex* and *sharey*."
      ]
    },
    {
      "cell_type": "code",
      "execution_count": null,
      "metadata": {
        "id": "8eZrbQQNSjJp"
      },
      "outputs": [],
      "source": [
        "def draw_subplot_sin_cos(index, x_values, ax):\n",
        "    \n",
        "    y1_values = np.sin(x_values * np.pi)\n",
        "    y2_values = np.cos(x_values * np.pi)\n",
        "\n",
        "    ax.plot(x_values, y1_values, c='r', label='Sine')\n",
        "    ax.scatter(x_values, y2_values, s=4, label='Cosine')\n",
        "\n",
        "    ax.legend()\n",
        "    ax.set_xlabel('x')\n",
        "    ax.set_ylabel('values')\n",
        "    ax.set_title(f'Values for sin and cos (Subplot #{index})')"
      ]
    },
    {
      "cell_type": "code",
      "execution_count": null,
      "metadata": {
        "id": "bMmBmQX2SjJp"
      },
      "outputs": [],
      "source": [
        "fig, ax_list = plt.subplots(nrows=2, ncols=2, figsize=(10, 10))\n",
        "#fig, ax_list = plt.subplots(nrows=2, ncols=2,\n",
        "#                            sharex='col', sharey='row',\n",
        "#                            figsize=(10, 10))\n",
        "\n",
        "i = 0\n",
        "for r, row in enumerate(ax_list):\n",
        "    for c, ax in enumerate(row):\n",
        "        x_values = np.arange(i, i + 10, 0.1)\n",
        "        draw_subplot_sin_cos(i, x_values, ax)\n",
        "        i += 1\n",
        "\n",
        "plt.show()"
      ]
    },
    {
      "cell_type": "markdown",
      "metadata": {
        "id": "tmcTswsOSjJp"
      },
      "source": [
        "## Confusion matrix\n",
        "\n",
        "Here we show plotting confusion matrix from scratch. For a pre-built one, see [implementation by scikit-learn](https://scikit-learn.org/stable/auto_examples/model_selection/plot_confusion_matrix.html)"
      ]
    },
    {
      "cell_type": "code",
      "execution_count": null,
      "metadata": {
        "id": "G7JPIGqSSjJp"
      },
      "outputs": [],
      "source": [
        "fig, ax = plt.subplots(figsize=(10,10))\n",
        "\n",
        "color='YlGn'\n",
        "\n",
        "labels = ['Python', 'C++', 'Fortran']\n",
        "\n",
        "cm = np.array([[0.7, 0.3, 0.2], [0.1, 0.5, 0.4], [0.05, 0.1, 0.85]])\n",
        "heatmap = ax.pcolor(cm, cmap=color)\n",
        "fig.colorbar(heatmap)\n",
        "ax.invert_yaxis()\n",
        "ax.xaxis.tick_top()\n",
        "\n",
        "ax.set_title('Confusion Matrix')\n",
        "ax.set_xlabel('Prediction')\n",
        "ax.set_ylabel('Groud Truth')\n",
        "\n",
        "ax.set_xticks(np.arange(cm.shape[0]) + 0.5, minor=False)\n",
        "ax.set_yticks(np.arange(cm.shape[1]) + 0.5, minor=False)\n",
        "ax.set_xticklabels(labels)\n",
        "ax.set_yticklabels(labels)\n",
        "\n",
        "plt.show()"
      ]
    },
    {
      "cell_type": "markdown",
      "metadata": {
        "id": "omjRgnm3SjJp"
      },
      "source": [
        "### Show image"
      ]
    },
    {
      "cell_type": "markdown",
      "metadata": {
        "id": "yoKZIZAySjJp"
      },
      "source": [
        "When showing images, remember to tell numpy the range of pixel values. Typically pixel values are either *0-1* or *0-255*."
      ]
    },
    {
      "cell_type": "code",
      "execution_count": null,
      "metadata": {
        "id": "abTTdEOSSjJp"
      },
      "outputs": [],
      "source": [
        "img_arr = np.random.random((256, 256))# 0 -> 1\n",
        "print(img_arr.shape)\n",
        "\n",
        "plt.imshow(img_arr, cmap='gray', vmin=0.2, vmax=0.25)\n",
        "plt.show()"
      ]
    },
    {
      "cell_type": "markdown",
      "metadata": {
        "id": "LHJ8i0PdSjJp"
      },
      "source": [
        "By default numpy goes channel first."
      ]
    },
    {
      "cell_type": "code",
      "execution_count": null,
      "metadata": {
        "id": "0yPYJEGNSjJq"
      },
      "outputs": [],
      "source": [
        "img_arr = np.random.random((256, 256, 3))# R, C, (RGB)\n",
        "print(img_arr.shape)\n",
        "\n",
        "plt.imshow(img_arr, vmin=0, vmax=1)\n",
        "plt.show()"
      ]
    },
    {
      "cell_type": "markdown",
      "metadata": {
        "id": "rHBCrOWvSjJq"
      },
      "source": [
        "Remember to move axis around if you want to use the default plotting tool."
      ]
    },
    {
      "cell_type": "code",
      "execution_count": null,
      "metadata": {
        "id": "RjfrePJ-SjJq"
      },
      "outputs": [],
      "source": [
        "img_arr = np.random.random((3, 256, 256))# (RGB) R C\n",
        "print(img_arr.shape)\n",
        "\n",
        "img_arr = np.moveaxis(img_arr, 0, -1)\n",
        "print(img_arr.shape)\n",
        "\n",
        "plt.imshow(img_arr, vmin=0, vmax=1)\n",
        "plt.show()"
      ]
    },
    {
      "cell_type": "code",
      "execution_count": null,
      "metadata": {
        "scrolled": true,
        "id": "FnfNpKZySjJq"
      },
      "outputs": [],
      "source": [
        "import imageio\n",
        "\n",
        "fname = 'sample.jpg'\n",
        "img = imageio.imread(fname)\n",
        "\n",
        "print(img.shape)"
      ]
    },
    {
      "cell_type": "code",
      "execution_count": null,
      "metadata": {
        "id": "R34o2ZheSjJq"
      },
      "outputs": [],
      "source": [
        "plt.figure(dpi=250)   # dpi=500 -> larger\n",
        "plt.imshow(img, vmin=0, vmax=10000, interpolation='bilinear')\n",
        "plt.show()"
      ]
    },
    {
      "cell_type": "markdown",
      "metadata": {
        "id": "5FFyMq4BSjJr"
      },
      "source": [
        "## Pandas\n",
        "\n",
        "Pandas is great data processing library for table/database-like data. Excellent for things that come in or you wish to output as CSV/Excel. Part of the following content is inspired by [a Pandas tutorial online](https://www.learndatasci.com/tutorials/python-pandas-tutorial-complete-introduction-for-beginners/).\n",
        "\n",
        "\n",
        "### File operations"
      ]
    },
    {
      "cell_type": "code",
      "execution_count": null,
      "metadata": {
        "id": "eW06Xl9dSjJr"
      },
      "outputs": [],
      "source": [
        "import pandas as pd"
      ]
    },
    {
      "cell_type": "code",
      "execution_count": null,
      "metadata": {
        "id": "l9k2SBkjSjJr"
      },
      "outputs": [],
      "source": [
        "data = pd.read_csv('train.csv')\n",
        "\n",
        "data_short = data[:20]"
      ]
    },
    {
      "cell_type": "code",
      "execution_count": null,
      "metadata": {
        "scrolled": false,
        "id": "76aoSIleSjJr"
      },
      "outputs": [],
      "source": [
        "data_short"
      ]
    },
    {
      "cell_type": "markdown",
      "metadata": {
        "id": "UtLN8ZNWSjJr"
      },
      "source": [
        "You can get basic statiscis with little effort like this"
      ]
    },
    {
      "cell_type": "code",
      "execution_count": null,
      "metadata": {
        "id": "tgTEYiykSjJs"
      },
      "outputs": [],
      "source": [
        "print(data['x_1'].describe())     # For one column\n",
        "\n",
        "data.describe()                   # For the entire dataframe"
      ]
    },
    {
      "cell_type": "markdown",
      "metadata": {
        "id": "VBY_3jtASjJs"
      },
      "source": [
        "See [Pandas documentation](https://pandas.pydata.org/pandas-docs/stable/reference/api/pandas.DataFrame.to_csv.html) for parameters of *to_csv* function."
      ]
    },
    {
      "cell_type": "code",
      "execution_count": null,
      "metadata": {
        "id": "-0CeUblTSjJs"
      },
      "outputs": [],
      "source": [
        "data_short.to_csv('data_short.csv', index=False)"
      ]
    },
    {
      "cell_type": "markdown",
      "metadata": {
        "id": "qKg7f49XSjJs"
      },
      "source": [
        "### Manipulations"
      ]
    },
    {
      "cell_type": "markdown",
      "metadata": {
        "id": "SSzcFMPQSjJs"
      },
      "source": [
        "Columns can be selected and filtered based on value/name. Be careful with binary operation for filtering due to order of execution. Bitwise operations takes precedence over boolean."
      ]
    },
    {
      "cell_type": "code",
      "execution_count": null,
      "metadata": {
        "scrolled": false,
        "id": "33xdUeyFSjJs"
      },
      "outputs": [],
      "source": [
        "data_short[['x_1', 'y']]"
      ]
    },
    {
      "cell_type": "code",
      "execution_count": null,
      "metadata": {
        "id": "CzmPWtGrSjJt"
      },
      "outputs": [],
      "source": [
        "data_short[(data_short['y'] > 5) & (data_short['x_3'] < 1.5)]       # Use & | instead of and/or. Put brackets around"
      ]
    },
    {
      "cell_type": "markdown",
      "metadata": {
        "id": "iOpICf1TSjJt"
      },
      "source": [
        "A filter function can be applied to generate a new column (you can use this to apply a trained model for prediction result)."
      ]
    },
    {
      "cell_type": "markdown",
      "metadata": {
        "id": "k6P8iVpmSjJt"
      },
      "source": [
        "We can add column based on filter/conditions."
      ]
    },
    {
      "cell_type": "code",
      "execution_count": null,
      "metadata": {
        "scrolled": false,
        "id": "qAzgFn8BSjJt"
      },
      "outputs": [],
      "source": [
        "def filter_func(row):\n",
        "    \n",
        "    if row['x_1'] == 1.0 and row['x_2'] == 0.0:\n",
        "        return row['y'] * 10\n",
        "    \n",
        "    return -1\n",
        "\n",
        "data_short['new_column'] = data_short[['x_1', 'x_2', 'y']].apply(filter_func, axis=1)\n",
        "\n",
        "data_short"
      ]
    },
    {
      "cell_type": "markdown",
      "metadata": {
        "id": "qdXzSebJSjJt"
      },
      "source": [
        "Iterating through Pandas rows can be done as follows. Each row is a \"dictionary\". Adding data directly via a list of values is also valid."
      ]
    },
    {
      "cell_type": "code",
      "execution_count": null,
      "metadata": {
        "id": "9_6y1NNUSjJu"
      },
      "outputs": [],
      "source": [
        "col2 = []\n",
        "for i, row in data_short.iterrows():\n",
        "    print(f'Row {i}: y-value: {row[\"y\"]}')\n",
        "    col2.append(row['y'] ** 2)\n",
        "\n",
        "data_short['col_2'] = col2\n",
        "data_short"
      ]
    },
    {
      "cell_type": "markdown",
      "metadata": {
        "id": "9PJmZbZySjJu"
      },
      "source": [
        "Not a great example here, but *loc* means index by value, *iloc* means index by index. For example, you can do iloc by -1, but NOT loc by -1."
      ]
    },
    {
      "cell_type": "code",
      "execution_count": null,
      "metadata": {
        "id": "9xqDDlkwSjJu"
      },
      "outputs": [],
      "source": [
        "print(data.loc[19])\n",
        "print(data.iloc[-1])"
      ]
    },
    {
      "cell_type": "markdown",
      "metadata": {
        "id": "V78xTjhdSjJu"
      },
      "source": [
        "### Create dataframe\n",
        "\n",
        "You can create dataframe from dictionary in row or column major manner. Notice that \"extra\" things will be filled with *Nan*."
      ]
    },
    {
      "cell_type": "code",
      "execution_count": null,
      "metadata": {
        "id": "vxhFcndUSjJu"
      },
      "outputs": [],
      "source": [
        "data_list = [{'a': i, 'b': i + 1} for i in range(15)]\n",
        "data_list[5] = {'a': 10, 'b': 9, 'c': -1}\n",
        "\n",
        "df = pd.DataFrame(data_list)\n",
        "df"
      ]
    },
    {
      "cell_type": "markdown",
      "metadata": {
        "id": "SGdtz1X_SjJv"
      },
      "source": [
        "Dataframe can also be created from 2D array. Naming the rows and columns is a good practice."
      ]
    },
    {
      "cell_type": "code",
      "execution_count": null,
      "metadata": {
        "id": "y1kq3M2VSjJv"
      },
      "outputs": [],
      "source": [
        "data_2d = np.array([i for i in range(50)]).reshape(5, 10)\n",
        "\n",
        "df = pd.DataFrame(data_2d, columns=[f'col {i}' for i in range(10)], index=[f'row {i}' for i in range(5)])\n",
        "df"
      ]
    },
    {
      "cell_type": "markdown",
      "metadata": {
        "id": "IL2grQWmSjJv"
      },
      "source": [
        "Similarly, you can create dataframe directly from dictionary. It also supports whether the dicionary keys are row/col indices."
      ]
    },
    {
      "cell_type": "code",
      "execution_count": null,
      "metadata": {
        "id": "08QwvHwmSjJv"
      },
      "outputs": [],
      "source": [
        "data_dict = {'col 1': [3, 2, 1, 0],\n",
        "        'col 2': ['a', 'b', 'c', 'd']}\n",
        "\n",
        "df = pd.DataFrame.from_dict(data_dict)\n",
        "df"
      ]
    },
    {
      "cell_type": "code",
      "execution_count": null,
      "metadata": {
        "id": "3AJwG9vMSjJv"
      },
      "outputs": [],
      "source": [
        "df = pd.DataFrame.from_dict(data_dict, orient='index')\n",
        "df"
      ]
    },
    {
      "cell_type": "markdown",
      "metadata": {
        "id": "3t--OicPSjJv"
      },
      "source": [
        "### Simple plotting\n",
        "\n",
        "Pandas also support plotting. The images it generates are the same style as those in Matplotlib. Pandas plotting provides a quick way to visualize, while you might still need to resort to Matplotlib for more formal plots with higher flexibility."
      ]
    },
    {
      "cell_type": "code",
      "execution_count": null,
      "metadata": {
        "id": "K1UZRyA2SjJw"
      },
      "outputs": [],
      "source": [
        "data.plot(kind='scatter', x='x_3', y='y', title='Plot of Data');"
      ]
    },
    {
      "cell_type": "code",
      "execution_count": null,
      "metadata": {
        "id": "XX-GARsBSjJw"
      },
      "outputs": [],
      "source": [
        "data['y'].plot(kind='hist', title='Y');"
      ]
    },
    {
      "cell_type": "code",
      "execution_count": null,
      "metadata": {
        "id": "rEDmge-gSjJw"
      },
      "outputs": [],
      "source": [
        "data.boxplot(column='x_3', by='y');"
      ]
    },
    {
      "cell_type": "code",
      "execution_count": null,
      "metadata": {
        "id": "VHS0bNUZSjJw"
      },
      "outputs": [],
      "source": [
        "data.to_numpy()"
      ]
    },
    {
      "cell_type": "code",
      "execution_count": null,
      "metadata": {
        "id": "S3J_vJM5SjJw"
      },
      "outputs": [],
      "source": [
        "plt.scatter(data['x_1'], data['y'])"
      ]
    },
    {
      "cell_type": "code",
      "execution_count": null,
      "metadata": {
        "id": "Cx9YbCX3SjJw"
      },
      "outputs": [],
      "source": []
    }
  ],
  "metadata": {
    "kernelspec": {
      "display_name": "Python 3 (ipykernel)",
      "language": "python",
      "name": "python3"
    },
    "language_info": {
      "codemirror_mode": {
        "name": "ipython",
        "version": 3
      },
      "file_extension": ".py",
      "mimetype": "text/x-python",
      "name": "python",
      "nbconvert_exporter": "python",
      "pygments_lexer": "ipython3",
      "version": "3.7.9"
    },
    "colab": {
      "provenance": []
    }
  },
  "nbformat": 4,
  "nbformat_minor": 0
}