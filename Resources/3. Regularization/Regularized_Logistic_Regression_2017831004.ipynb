{
  "nbformat": 4,
  "nbformat_minor": 0,
  "metadata": {
    "colab": {
      "provenance": []
    },
    "kernelspec": {
      "name": "python3",
      "display_name": "Python 3"
    },
    "language_info": {
      "name": "python"
    }
  },
  "cells": [
    {
      "cell_type": "markdown",
      "source": [
        "**Imports**"
      ],
      "metadata": {
        "id": "12ky8CMxayAg"
      }
    },
    {
      "cell_type": "code",
      "execution_count": 142,
      "metadata": {
        "id": "55n7kXHyaOGm"
      },
      "outputs": [],
      "source": [
        "import pandas as pd\n",
        "import matplotlib.pyplot as plt\n",
        "import csv\n",
        "import numpy as np\n",
        "import seaborn as sns"
      ]
    },
    {
      "cell_type": "markdown",
      "source": [
        "**Downloading dataset**"
      ],
      "metadata": {
        "id": "4A7I1gcra_QJ"
      }
    },
    {
      "cell_type": "code",
      "source": [
        "!gdown 1GV85WjuVM43gZE6RCjxXzzz0AiDm2Ani"
      ],
      "metadata": {
        "colab": {
          "base_uri": "https://localhost:8080/"
        },
        "id": "h0Iz2ANLa7JX",
        "outputId": "7bf8213d-a716-4ad7-9cac-033c95fd9601"
      },
      "execution_count": 143,
      "outputs": [
        {
          "output_type": "stream",
          "name": "stdout",
          "text": [
            "Downloading...\n",
            "From: https://drive.google.com/uc?id=1GV85WjuVM43gZE6RCjxXzzz0AiDm2Ani\n",
            "To: /content/data2.txt\n",
            "\r  0% 0.00/2.35k [00:00<?, ?B/s]\r100% 2.35k/2.35k [00:00<00:00, 3.65MB/s]\n"
          ]
        }
      ]
    },
    {
      "cell_type": "markdown",
      "source": [
        "**Reading dataset**"
      ],
      "metadata": {
        "id": "SZ16_rJ5bm1D"
      }
    },
    {
      "cell_type": "code",
      "source": [
        "data = pd.read_csv(\"data2.txt\", header = None, names = [\"x1\",\"x2\",\"y\"])\n",
        "data.head()"
      ],
      "metadata": {
        "colab": {
          "base_uri": "https://localhost:8080/",
          "height": 206
        },
        "id": "3LJl_z0sbq3U",
        "outputId": "2599a819-f6b1-4843-c9f6-6dc48e781aa6"
      },
      "execution_count": 144,
      "outputs": [
        {
          "output_type": "execute_result",
          "data": {
            "text/plain": [
              "         x1       x2  y\n",
              "0  0.051267  0.69956  1\n",
              "1 -0.092742  0.68494  1\n",
              "2 -0.213710  0.69225  1\n",
              "3 -0.375000  0.50219  1\n",
              "4 -0.513250  0.46564  1"
            ],
            "text/html": [
              "\n",
              "  <div id=\"df-747ff196-bbd9-45a0-8c16-d770c0aec6c4\">\n",
              "    <div class=\"colab-df-container\">\n",
              "      <div>\n",
              "<style scoped>\n",
              "    .dataframe tbody tr th:only-of-type {\n",
              "        vertical-align: middle;\n",
              "    }\n",
              "\n",
              "    .dataframe tbody tr th {\n",
              "        vertical-align: top;\n",
              "    }\n",
              "\n",
              "    .dataframe thead th {\n",
              "        text-align: right;\n",
              "    }\n",
              "</style>\n",
              "<table border=\"1\" class=\"dataframe\">\n",
              "  <thead>\n",
              "    <tr style=\"text-align: right;\">\n",
              "      <th></th>\n",
              "      <th>x1</th>\n",
              "      <th>x2</th>\n",
              "      <th>y</th>\n",
              "    </tr>\n",
              "  </thead>\n",
              "  <tbody>\n",
              "    <tr>\n",
              "      <th>0</th>\n",
              "      <td>0.051267</td>\n",
              "      <td>0.69956</td>\n",
              "      <td>1</td>\n",
              "    </tr>\n",
              "    <tr>\n",
              "      <th>1</th>\n",
              "      <td>-0.092742</td>\n",
              "      <td>0.68494</td>\n",
              "      <td>1</td>\n",
              "    </tr>\n",
              "    <tr>\n",
              "      <th>2</th>\n",
              "      <td>-0.213710</td>\n",
              "      <td>0.69225</td>\n",
              "      <td>1</td>\n",
              "    </tr>\n",
              "    <tr>\n",
              "      <th>3</th>\n",
              "      <td>-0.375000</td>\n",
              "      <td>0.50219</td>\n",
              "      <td>1</td>\n",
              "    </tr>\n",
              "    <tr>\n",
              "      <th>4</th>\n",
              "      <td>-0.513250</td>\n",
              "      <td>0.46564</td>\n",
              "      <td>1</td>\n",
              "    </tr>\n",
              "  </tbody>\n",
              "</table>\n",
              "</div>\n",
              "      <button class=\"colab-df-convert\" onclick=\"convertToInteractive('df-747ff196-bbd9-45a0-8c16-d770c0aec6c4')\"\n",
              "              title=\"Convert this dataframe to an interactive table.\"\n",
              "              style=\"display:none;\">\n",
              "        \n",
              "  <svg xmlns=\"http://www.w3.org/2000/svg\" height=\"24px\"viewBox=\"0 0 24 24\"\n",
              "       width=\"24px\">\n",
              "    <path d=\"M0 0h24v24H0V0z\" fill=\"none\"/>\n",
              "    <path d=\"M18.56 5.44l.94 2.06.94-2.06 2.06-.94-2.06-.94-.94-2.06-.94 2.06-2.06.94zm-11 1L8.5 8.5l.94-2.06 2.06-.94-2.06-.94L8.5 2.5l-.94 2.06-2.06.94zm10 10l.94 2.06.94-2.06 2.06-.94-2.06-.94-.94-2.06-.94 2.06-2.06.94z\"/><path d=\"M17.41 7.96l-1.37-1.37c-.4-.4-.92-.59-1.43-.59-.52 0-1.04.2-1.43.59L10.3 9.45l-7.72 7.72c-.78.78-.78 2.05 0 2.83L4 21.41c.39.39.9.59 1.41.59.51 0 1.02-.2 1.41-.59l7.78-7.78 2.81-2.81c.8-.78.8-2.07 0-2.86zM5.41 20L4 18.59l7.72-7.72 1.47 1.35L5.41 20z\"/>\n",
              "  </svg>\n",
              "      </button>\n",
              "      \n",
              "  <style>\n",
              "    .colab-df-container {\n",
              "      display:flex;\n",
              "      flex-wrap:wrap;\n",
              "      gap: 12px;\n",
              "    }\n",
              "\n",
              "    .colab-df-convert {\n",
              "      background-color: #E8F0FE;\n",
              "      border: none;\n",
              "      border-radius: 50%;\n",
              "      cursor: pointer;\n",
              "      display: none;\n",
              "      fill: #1967D2;\n",
              "      height: 32px;\n",
              "      padding: 0 0 0 0;\n",
              "      width: 32px;\n",
              "    }\n",
              "\n",
              "    .colab-df-convert:hover {\n",
              "      background-color: #E2EBFA;\n",
              "      box-shadow: 0px 1px 2px rgba(60, 64, 67, 0.3), 0px 1px 3px 1px rgba(60, 64, 67, 0.15);\n",
              "      fill: #174EA6;\n",
              "    }\n",
              "\n",
              "    [theme=dark] .colab-df-convert {\n",
              "      background-color: #3B4455;\n",
              "      fill: #D2E3FC;\n",
              "    }\n",
              "\n",
              "    [theme=dark] .colab-df-convert:hover {\n",
              "      background-color: #434B5C;\n",
              "      box-shadow: 0px 1px 3px 1px rgba(0, 0, 0, 0.15);\n",
              "      filter: drop-shadow(0px 1px 2px rgba(0, 0, 0, 0.3));\n",
              "      fill: #FFFFFF;\n",
              "    }\n",
              "  </style>\n",
              "\n",
              "      <script>\n",
              "        const buttonEl =\n",
              "          document.querySelector('#df-747ff196-bbd9-45a0-8c16-d770c0aec6c4 button.colab-df-convert');\n",
              "        buttonEl.style.display =\n",
              "          google.colab.kernel.accessAllowed ? 'block' : 'none';\n",
              "\n",
              "        async function convertToInteractive(key) {\n",
              "          const element = document.querySelector('#df-747ff196-bbd9-45a0-8c16-d770c0aec6c4');\n",
              "          const dataTable =\n",
              "            await google.colab.kernel.invokeFunction('convertToInteractive',\n",
              "                                                     [key], {});\n",
              "          if (!dataTable) return;\n",
              "\n",
              "          const docLinkHtml = 'Like what you see? Visit the ' +\n",
              "            '<a target=\"_blank\" href=https://colab.research.google.com/notebooks/data_table.ipynb>data table notebook</a>'\n",
              "            + ' to learn more about interactive tables.';\n",
              "          element.innerHTML = '';\n",
              "          dataTable['output_type'] = 'display_data';\n",
              "          await google.colab.output.renderOutput(dataTable, element);\n",
              "          const docLink = document.createElement('div');\n",
              "          docLink.innerHTML = docLinkHtml;\n",
              "          element.appendChild(docLink);\n",
              "        }\n",
              "      </script>\n",
              "    </div>\n",
              "  </div>\n",
              "  "
            ]
          },
          "metadata": {},
          "execution_count": 144
        }
      ]
    },
    {
      "cell_type": "code",
      "source": [
        "data.shape"
      ],
      "metadata": {
        "colab": {
          "base_uri": "https://localhost:8080/"
        },
        "id": "gYPRtgtZJ_O1",
        "outputId": "22a6ceab-9ce6-4c74-f611-d4f6302f87cc"
      },
      "execution_count": 145,
      "outputs": [
        {
          "output_type": "execute_result",
          "data": {
            "text/plain": [
              "(118, 3)"
            ]
          },
          "metadata": {},
          "execution_count": 145
        }
      ]
    },
    {
      "cell_type": "markdown",
      "source": [
        "**Plotting Data**"
      ],
      "metadata": {
        "id": "wXRYRSQLRZIM"
      }
    },
    {
      "cell_type": "code",
      "source": [
        "def plotData(data, label_x, label_y, label_pos, label_neg, axes=None):\n",
        "    # Get indexes for class 0 and class 1\n",
        "    neg = data['y'] == 0\n",
        "    pos = data['y'] == 1\n",
        "    \n",
        "    # If no specific axes object has been passed, get the current axes.\n",
        "    if axes == None:\n",
        "        axes = plt.gca()\n",
        "    axes.scatter(data[pos]['x1'], data[pos]['x2'], marker='+', c='orange', s=60, linewidth=2, label=label_pos)\n",
        "    axes.scatter(data[neg]['x1'], data[neg]['x2'], c='blue', s=60, label=label_neg)\n",
        "    axes.set_xlabel(label_x)\n",
        "    axes.set_ylabel(label_y)\n",
        "    axes.legend(frameon= True, fancybox = True);"
      ],
      "metadata": {
        "id": "MM7DTiErRU7j"
      },
      "execution_count": 146,
      "outputs": []
    },
    {
      "cell_type": "code",
      "source": [
        "plotData(data, 'Microchip Test 1', 'Microchip Test 2', 'y = 1', 'y = 0')"
      ],
      "metadata": {
        "colab": {
          "base_uri": "https://localhost:8080/",
          "height": 279
        },
        "id": "OtQ93pm_RqEK",
        "outputId": "08b95de5-7050-4c38-f5f8-1d6a932bdc79"
      },
      "execution_count": 147,
      "outputs": [
        {
          "output_type": "display_data",
          "data": {
            "text/plain": [
              "<Figure size 432x288 with 1 Axes>"
            ],
            "image/png": "[encoded data removed]"
          },
          "metadata": {
            "needs_background": "light"
          }
        }
      ]
    },
    {
      "cell_type": "code",
      "source": [
        "n = data.shape[1]-1\n",
        "x = data[data.columns[0:n]]\n",
        "\n",
        "y = data[data.columns[n:n+1]]\n",
        "# convert to np.array\n",
        "X = x.values\n",
        "y = y.values"
      ],
      "metadata": {
        "id": "3lQglbr1S1zk"
      },
      "execution_count": 148,
      "outputs": []
    },
    {
      "cell_type": "markdown",
      "source": [
        "**Add Polynomial Features**"
      ],
      "metadata": {
        "id": "uleW_zFEhLF4"
      }
    },
    {
      "cell_type": "code",
      "source": [
        "def mapFeature( x1col, x2col):\n",
        "    degrees = 6\n",
        "    out = np.ones( (x1col.shape[0], 1) )\n",
        "\n",
        "    for i in range(1, degrees+1):\n",
        "      for j in range(0, i+1):\n",
        "        term1 = x1col ** (i-j)\n",
        "        term2 = x2col ** (j)\n",
        "        term  = (term1 * term2).reshape( term1.shape[0], 1 ) \n",
        "        out   = np.hstack(( out, term ))\n",
        "\n",
        "    return out"
      ],
      "metadata": {
        "id": "ODM3gThiTRB9"
      },
      "execution_count": 149,
      "outputs": []
    },
    {
      "cell_type": "code",
      "source": [
        "XX = mapFeature(X[:,0],X[:,1])\n",
        "print(X.shape, XX.shape)"
      ],
      "metadata": {
        "colab": {
          "base_uri": "https://localhost:8080/"
        },
        "id": "KVElHZ6xTfxI",
        "outputId": "1da63666-7d6f-468a-d67c-77aa6877050b"
      },
      "execution_count": 150,
      "outputs": [
        {
          "output_type": "stream",
          "name": "stdout",
          "text": [
            "(118, 2) (118, 28)\n"
          ]
        }
      ]
    },
    {
      "cell_type": "code",
      "source": [
        "from scipy.special import expit #Vectorized sigmoid function\n",
        "\n",
        "#Hypothesis function and cost function for logistic regression\n",
        "def h(mytheta,myX): #Logistic hypothesis function\n",
        "    return expit(np.dot(myX,mytheta))"
      ],
      "metadata": {
        "id": "050Z6e6bTy4Z"
      },
      "execution_count": 151,
      "outputs": []
    },
    {
      "cell_type": "markdown",
      "source": [
        "**Cost function and Gradient for the Regularized Logistic Regression**"
      ],
      "metadata": {
        "id": "rsZV1Td0hffP"
      }
    },
    {
      "cell_type": "code",
      "source": [
        "#Cost function, default lambda (regularization) 0\n",
        "def computeCost(mytheta,myX,myy,mylambda = 0.): \n",
        "\n",
        "    m = myy.size # number of training examples\n",
        "\n",
        "    term1 = np.dot(-np.array(myy).T,np.log(h(mytheta,myX)))\n",
        "    term2 = np.dot((1-np.array(myy)).T,np.log(1-h(mytheta,myX)))\n",
        "    regterm = (mylambda/2) * np.sum(np.dot(mytheta[1:].T,mytheta[1:])) #Skip theta0\n",
        "    return float( (1./m) * ( np.sum(term1 - term2) + regterm ) )"
      ],
      "metadata": {
        "id": "fF2LhKuwT9sN"
      },
      "execution_count": 152,
      "outputs": []
    },
    {
      "cell_type": "code",
      "source": [
        "def sigmoid(z):\n",
        "    z = np.clip( z, -500, 500 )           # protect against overflow\n",
        "    g = 1.0/(1.0+np.exp(-z))\n",
        "    return g"
      ],
      "metadata": {
        "id": "Vtky-ANrUAje"
      },
      "execution_count": 153,
      "outputs": []
    },
    {
      "cell_type": "code",
      "source": [
        "def computeGradientLogistic(X, y, w):\n",
        "  m,n = X.shape\n",
        "  \n",
        "  value = np.zeros((n,))\n",
        "\n",
        "  for i in range(m):\n",
        "    f_wb_i = sigmoid(np.dot(X[i], w))                       \n",
        "    err_i  = f_wb_i  - y[i]                       \n",
        "    for j in range(n):\n",
        "      value[j] = value[j] + err_i * X[i,j]        \n",
        "  value = value/m                                  \n",
        "      \n",
        "  return value"
      ],
      "metadata": {
        "id": "I8d6smewUWob"
      },
      "execution_count": 154,
      "outputs": []
    },
    {
      "cell_type": "code",
      "source": [
        "import copy\n",
        "import math\n",
        "initial_theta = np.zeros(XX.shape[1])\n",
        "print(initial_theta.shape)\n",
        "\n",
        "\n",
        "def optimizeRegularizedTheta(mytheta, myX, myy, alpha, num_iters, mylambda=0.):\n",
        "  m = myX.shape[0]\n",
        "  cost_list = []\n",
        "  w = copy.deepcopy(mytheta)\n",
        "\n",
        "  for i in range(num_iters):\n",
        "    value = computeGradientLogistic(myX, myy, w)   \n",
        "\n",
        "    w = w*(1-alpha*(mylambda/m)) - alpha * value              \n",
        "  \n",
        "    if i<100000:\n",
        "        cost_list.append( computeCost(w, myX, myy, mylambda) )\n",
        "\n",
        "    if i% math.ceil(num_iters / 10) == 0:\n",
        "        print(f\"Iteration {i:3d}: Cost {cost_list[-1]}\")\n",
        "  return w, min(cost_list)\n",
        "    \n",
        "theta, mincost = optimizeRegularizedTheta(initial_theta,XX,y, 0.1, 100)\n",
        "print(theta.shape)\n",
        "print(mincost)"
      ],
      "metadata": {
        "id": "fXjtShE8czPp",
        "colab": {
          "base_uri": "https://localhost:8080/"
        },
        "outputId": "03e46545-4562-4d90-b841-51b3e5cb0d80"
      },
      "execution_count": 155,
      "outputs": [
        {
          "output_type": "stream",
          "name": "stdout",
          "text": [
            "(28,)\n",
            "Iteration   0: Cost 0.6918760341510279\n",
            "Iteration  10: Cost 0.6807787955201189\n",
            "Iteration  20: Cost 0.6716993352797991\n",
            "Iteration  30: Cost 0.6638378870820755\n",
            "Iteration  40: Cost 0.6567772385512196\n",
            "Iteration  50: Cost 0.6502906353642546\n",
            "Iteration  60: Cost 0.64424707415317\n",
            "Iteration  70: Cost 0.6385649242322786\n",
            "Iteration  80: Cost 0.6331890771669233\n",
            "Iteration  90: Cost 0.6280795068299218\n",
            "(28,)\n",
            "0.6236829483685058\n"
          ]
        }
      ]
    },
    {
      "cell_type": "code",
      "source": [
        "def plotBoundary(mytheta, myX, myy, mylambda=0.):\n",
        "    \"\"\"\n",
        "    Function to plot the decision boundary for arbitrary theta, X, y, lambda value\n",
        "    Inside of this function is feature mapping, and the minimization routine.\n",
        "    It works by making a grid of x1 (\"xvals\") and x2 (\"yvals\") points,\n",
        "    And for each, computing whether the hypothesis classifies that point as\n",
        "    True or False. Then, a contour is drawn with a built-in pyplot function.\n",
        "    \"\"\"\n",
        "    alpha = .1\n",
        "    iters = 1000\n",
        "\n",
        "    theta, mincost = optimizeRegularizedTheta(mytheta, myX, myy, alpha, iters, mylambda)\n",
        "    print(theta, '\\n\\nCost : ', mincost, '\\n \\n ')\n",
        "    xvals = np.linspace(-1,1.5,50)\n",
        "    yvals = np.linspace(-1,1.5,50)\n",
        "    zvals = np.zeros((len(xvals),len(yvals)))\n",
        "    for i in range(len(xvals)):\n",
        "        for j in range(len(yvals)):\n",
        "            myfeaturesij = mapFeature(np.array([xvals[i]]),np.array([yvals[j]]))\n",
        "            zvals[i][j] = np.dot(theta,myfeaturesij.T)\n",
        "            # print(type(zvals), zvals.shape)\n",
        "    zvals = zvals.transpose()\n",
        "\n",
        "    u, v = np.meshgrid( xvals, yvals )\n",
        "    mycontour = plt.contour( xvals, yvals, zvals, [0])\n",
        "    #Kind of a hacky way to display a text on top of the decision boundary\n",
        "    myfmt = { 0:'Lambda = %d'%mylambda}\n",
        "    plt.clabel(mycontour, inline=1, fontsize=15, fmt=myfmt)\n",
        "    plt.title(\"Decision Boundary\")"
      ],
      "metadata": {
        "id": "sTchkiFwcza3"
      },
      "execution_count": 156,
      "outputs": []
    },
    {
      "cell_type": "code",
      "source": [
        "plt.figure(figsize=(12,10))\n",
        "plt.subplot(221)\n",
        "plotData(data, 'Microchip Test 1', 'Microchip Test 2', 'y = 1', 'y = 0')\n",
        "plotBoundary(initial_theta, XX, y, 0.)\n",
        "\n",
        "plt.subplot(222)\n",
        "plotData(data, 'Microchip Test 1', 'Microchip Test 2', 'y = 1', 'y = 0')\n",
        "plotBoundary(initial_theta,XX,y,1.)\n",
        "\n",
        "plt.subplot(223)\n",
        "plotData(data, 'Microchip Test 1', 'Microchip Test 2', 'y = 1', 'y = 0')\n",
        "plotBoundary(initial_theta,XX,y,10.)\n",
        "\n",
        "plt.subplot(224)\n",
        "plotData(data, 'Microchip Test 1', 'Microchip Test 2', 'y = 1', 'y = 0')\n",
        "plotBoundary(initial_theta,XX,y,50.)"
      ],
      "metadata": {
        "id": "vU5ZDvXdbaZ-",
        "colab": {
          "base_uri": "https://localhost:8080/",
          "height": 1000
        },
        "outputId": "f665146d-60d2-431e-ac4e-1c19a904f50c"
      },
      "execution_count": 157,
      "outputs": [
        {
          "output_type": "stream",
          "name": "stdout",
          "text": [
            "Iteration   0: Cost 0.6918760341510279\n",
            "Iteration 100: Cost 0.6232053878935406\n",
            "Iteration 200: Cost 0.5834834383882755\n",
            "Iteration 300: Cost 0.5539189056091518\n",
            "Iteration 400: Cost 0.5304711255387022\n",
            "Iteration 500: Cost 0.5112963975143575\n",
            "Iteration 600: Cost 0.49529478909214564\n",
            "Iteration 700: Cost 0.48172861130876127\n",
            "Iteration 800: Cost 0.47007596242258953\n",
            "Iteration 900: Cost 0.45995566159518264\n",
            "[ 1.30872757e+00  7.00256068e-01  1.36341875e+00 -2.16944099e+00\n",
            " -9.29244303e-01 -1.31282812e+00  1.01968141e-01 -3.89111695e-01\n",
            " -3.75585397e-01 -2.32188180e-01 -1.66226665e+00 -9.11030925e-02\n",
            " -6.55040195e-01 -2.71415698e-01 -1.33637719e+00 -3.14296960e-01\n",
            " -2.38903351e-01 -7.49418591e-02 -2.96234952e-01 -2.99615002e-01\n",
            " -6.60065875e-01 -1.22542494e+00 -1.78874272e-03 -3.23451687e-01\n",
            " -1.51509752e-03 -3.57119750e-01 -1.37232715e-01 -1.18325726e+00] \n",
            "\n",
            "Cost :  0.4511658724197426 \n",
            " \n",
            " \n",
            "Iteration   0: Cost 0.6918765735084208\n",
            "Iteration 100: Cost 0.6278884410558598\n",
            "Iteration 200: Cost 0.5966082878917807\n",
            "Iteration 300: Cost 0.5768749870323071\n",
            "Iteration 400: Cost 0.563630673437029\n",
            "Iteration 500: Cost 0.554473059369829\n",
            "Iteration 600: Cost 0.5480154291908558\n",
            "Iteration 700: Cost 0.5433910851281992\n",
            "Iteration 800: Cost 0.5400363773515396\n",
            "Iteration 900: Cost 0.537575041290426\n",
            "[ 9.44383831e-01  4.37176161e-01  9.51867107e-01 -1.56418921e+00\n",
            " -6.26792163e-01 -9.31878670e-01  3.44588279e-02 -2.66979268e-01\n",
            " -2.62426445e-01 -1.87367887e-01 -1.19859230e+00 -6.04485349e-02\n",
            " -4.66121608e-01 -1.77036896e-01 -9.64300995e-01 -2.45202058e-01\n",
            " -1.64942847e-01 -5.82901219e-02 -2.07823811e-01 -2.02022828e-01\n",
            " -4.96209503e-01 -8.82359691e-01 -4.12204131e-04 -2.31183385e-01\n",
            " -2.64174689e-04 -2.54021080e-01 -8.55806124e-02 -8.63106119e-01] \n",
            "\n",
            "Cost :  0.5357665139620358 \n",
            " \n",
            " \n",
            "Iteration   0: Cost 0.6918814277249562\n",
            "Iteration 100: Cost 0.6546070385736462\n",
            "Iteration 200: Cost 0.6502931572451334\n",
            "Iteration 300: Cost 0.6495014652677807\n",
            "Iteration 400: Cost 0.6493135874227989\n",
            "Iteration 500: Cost 0.649258485228533\n",
            "Iteration 600: Cost 0.6492399681082537\n",
            "Iteration 700: Cost 0.6492332823502085\n",
            "Iteration 800: Cost 0.6492307817482884\n",
            "Iteration 900: Cost 0.6492298293835763\n",
            "[ 0.21470078 -0.00760506  0.17608223 -0.40125825 -0.11743149 -0.23185533\n",
            " -0.06668764 -0.05583636 -0.06213863 -0.09712493 -0.31765266 -0.01468056\n",
            " -0.10911938 -0.03013854 -0.26764149 -0.11187383 -0.03627172 -0.02114449\n",
            " -0.04753206 -0.0403729  -0.18120586 -0.24308201 -0.00364373 -0.05524673\n",
            " -0.00101506 -0.06093423 -0.01293734 -0.26289608] \n",
            "\n",
            "Cost :  0.6492294650361994 \n",
            " \n",
            " \n",
            "Iteration   0: Cost 0.6919030020206688\n",
            "Iteration 100: Cost 0.6809617010601051\n",
            "Iteration 200: Cost 0.6809541019608675\n",
            "Iteration 300: Cost 0.6809540345479033\n",
            "Iteration 400: Cost 0.6809540338508847\n",
            "Iteration 500: Cost 0.680954033843271\n",
            "Iteration 600: Cost 0.6809540338431849\n",
            "Iteration 700: Cost 0.680954033843184\n",
            "Iteration 800: Cost 0.6809540338431841\n",
            "Iteration 900: Cost 0.6809540338431841\n",
            "[ 0.02367075 -0.02732086  0.02013701 -0.10146103 -0.02595638 -0.06644261\n",
            " -0.03145835 -0.01404218 -0.01653234 -0.03791937 -0.08103052 -0.00436962\n",
            " -0.02637549 -0.00686971 -0.07454541 -0.03755721 -0.00881311 -0.00647189\n",
            " -0.0117327  -0.00958639 -0.05668683 -0.06372685 -0.00185141 -0.0132413\n",
            " -0.00065361 -0.01492521 -0.00303372 -0.07457294] \n",
            "\n",
            "Cost :  0.680954033843184 \n",
            " \n",
            " \n"
          ]
        },
        {
          "output_type": "display_data",
          "data": {
            "text/plain": [
              "<Figure size 864x720 with 4 Axes>"
            ],
            "image/png": "[encoded data removed]"
          },
          "metadata": {
            "needs_background": "light"
          }
        }
      ]
    }
  ]
}